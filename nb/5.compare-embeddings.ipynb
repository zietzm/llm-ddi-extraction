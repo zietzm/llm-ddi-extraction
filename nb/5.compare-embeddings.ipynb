{
 "cells": [
  {
   "cell_type": "code",
   "execution_count": 1,
   "id": "1ca575d9-0a4c-43a6-9524-33aa2bc1a427",
   "metadata": {},
   "outputs": [],
   "source": [
    "import numpy as np\n",
    "import pandas as pd\n",
    "import polars as pl\n",
    "import sklearn.metrics.pairwise"
   ]
  },
  {
   "cell_type": "code",
   "execution_count": 2,
   "id": "f205b310-1be6-4dd5-bafe-4a123da4e8ae",
   "metadata": {},
   "outputs": [],
   "source": [
    "manual_embeddings_df = pd.read_csv(\"../data/manual_embeddings.csv\", index_col=0)\n",
    "gpt_embeddings_df = pd.read_csv(\"../data/gpt_embeddings.csv\", index_col=0)\n",
    "rxnorm_embeddings_df = pd.read_csv(\"../data/rxnorm_embeddings.csv.zst\", index_col=0)"
   ]
  },
  {
   "cell_type": "code",
   "execution_count": 3,
   "id": "251a114a-1e1d-496c-b88d-512bee804cc4",
   "metadata": {},
   "outputs": [],
   "source": [
    "def compute_cosine_df(**kwargs):\n",
    "    assert len(kwargs) == 2\n",
    "    x_name, y_name = list(kwargs.keys())\n",
    "    X = kwargs[x_name]\n",
    "    Y = kwargs[y_name]\n",
    "    \n",
    "    return (\n",
    "        pd.DataFrame(\n",
    "            sklearn.metrics.pairwise.cosine_similarity(X, Y),\n",
    "            index=X.index,\n",
    "            columns=Y.index,\n",
    "        )\n",
    "        .melt(ignore_index=False, var_name=y_name, value_name=\"cosine_similarity\")\n",
    "        .rename_axis(index=x_name)\n",
    "        .reset_index()\n",
    "        .pipe(pl.DataFrame)\n",
    "    )"
   ]
  },
  {
   "cell_type": "markdown",
   "id": "181f7c88-0be7-4622-a4fe-ade08443c70e",
   "metadata": {},
   "source": [
    "# 1. Direct comparison between GPT and manual annotations using semantic similarity matching"
   ]
  },
  {
   "cell_type": "code",
   "execution_count": 4,
   "id": "e15f5ca9-9ebe-4ec6-a6f2-11d9530bab11",
   "metadata": {},
   "outputs": [],
   "source": [
    "DIRECT_MATCH_CUTOFF = 0.7097613"
   ]
  },
  {
   "cell_type": "code",
   "execution_count": 5,
   "id": "71253108-ebb5-428d-a226-336bd85ecd6f",
   "metadata": {},
   "outputs": [],
   "source": [
    "manual_vs_gpt_cosine_df = compute_cosine_df(manual_annotation=manual_embeddings_df, gpt_annotation=gpt_embeddings_df)"
   ]
  },
  {
   "cell_type": "code",
   "execution_count": 6,
   "id": "358e365e-b635-4269-86e0-0288317275a0",
   "metadata": {},
   "outputs": [
    {
     "data": {
      "text/html": [
       "<div><style>\n",
       ".dataframe > thead > tr,\n",
       ".dataframe > tbody > tr {\n",
       "  text-align: right;\n",
       "  white-space: pre-wrap;\n",
       "}\n",
       "</style>\n",
       "<small>shape: (2, 7)</small><table border=\"1\" class=\"dataframe\"><thead><tr><th>set_id</th><th>label_id</th><th>manual_annotation</th><th>set_id_right</th><th>label_id_right</th><th>gpt_annotation</th><th>cosine_similarity</th></tr><tr><td>str</td><td>str</td><td>str</td><td>str</td><td>str</td><td>str</td><td>f64</td></tr></thead><tbody><tr><td>&quot;cdfbe0cd-eb15-45a1-ac17-531bcd…</td><td>&quot;1d6c9e9d-e17d-4609-91fa-75e5bd…</td><td>&quot;cyp1a2 substrates&quot;</td><td>&quot;cdfbe0cd-eb15-45a1-ac17-531bcd…</td><td>&quot;1d6c9e9d-e17d-4609-91fa-75e5bd…</td><td>&quot;colestipol&quot;</td><td>0.42328</td></tr><tr><td>&quot;cdfbe0cd-eb15-45a1-ac17-531bcd…</td><td>&quot;1d6c9e9d-e17d-4609-91fa-75e5bd…</td><td>&quot;ocaliva&quot;</td><td>&quot;cdfbe0cd-eb15-45a1-ac17-531bcd…</td><td>&quot;1d6c9e9d-e17d-4609-91fa-75e5bd…</td><td>&quot;colestipol&quot;</td><td>0.450723</td></tr></tbody></table></div>"
      ],
      "text/plain": [
       "shape: (2, 7)\n",
       "┌──────────────┬─────────────┬─────────────┬─────────────┬─────────────┬─────────────┬─────────────┐\n",
       "│ set_id       ┆ label_id    ┆ manual_anno ┆ set_id_righ ┆ label_id_ri ┆ gpt_annotat ┆ cosine_simi │\n",
       "│ ---          ┆ ---         ┆ tation      ┆ t           ┆ ght         ┆ ion         ┆ larity      │\n",
       "│ str          ┆ str         ┆ ---         ┆ ---         ┆ ---         ┆ ---         ┆ ---         │\n",
       "│              ┆             ┆ str         ┆ str         ┆ str         ┆ str         ┆ f64         │\n",
       "╞══════════════╪═════════════╪═════════════╪═════════════╪═════════════╪═════════════╪═════════════╡\n",
       "│ cdfbe0cd-eb1 ┆ 1d6c9e9d-e1 ┆ cyp1a2      ┆ cdfbe0cd-eb ┆ 1d6c9e9d-e1 ┆ colestipol  ┆ 0.42328     │\n",
       "│ 5-45a1-ac17- ┆ 7d-4609-91f ┆ substrates  ┆ 15-45a1-ac1 ┆ 7d-4609-91f ┆             ┆             │\n",
       "│ 531bcd…      ┆ a-75e5bd…   ┆             ┆ 7-531bcd…   ┆ a-75e5bd…   ┆             ┆             │\n",
       "│ cdfbe0cd-eb1 ┆ 1d6c9e9d-e1 ┆ ocaliva     ┆ cdfbe0cd-eb ┆ 1d6c9e9d-e1 ┆ colestipol  ┆ 0.450723    │\n",
       "│ 5-45a1-ac17- ┆ 7d-4609-91f ┆             ┆ 15-45a1-ac1 ┆ 7d-4609-91f ┆             ┆             │\n",
       "│ 531bcd…      ┆ a-75e5bd…   ┆             ┆ 7-531bcd…   ┆ a-75e5bd…   ┆             ┆             │\n",
       "└──────────────┴─────────────┴─────────────┴─────────────┴─────────────┴─────────────┴─────────────┘"
      ]
     },
     "execution_count": 6,
     "metadata": {},
     "output_type": "execute_result"
    }
   ],
   "source": [
    "manual_annotations_df = pl.read_csv(\"../data/manual_annotations.csv\")\n",
    "gpt_annotations_df = pl.read_csv(\"../data/gpt_annotations.csv\")\n",
    "\n",
    "manual_df = (\n",
    "    manual_annotations_df\n",
    "    .drop_nulls(\"manual_annotation\")\n",
    "    .select(\n",
    "        \"set_id\", \"label_id\", \n",
    "        (\n",
    "            pl.col(\"manual_annotation\")\n",
    "            .str.split(\",\")\n",
    "            .list.eval(pl.element().str.strip_chars())\n",
    "        )\n",
    "    )\n",
    "    .explode(\"manual_annotation\")\n",
    ")\n",
    "\n",
    "gpt_df = (\n",
    "    gpt_annotations_df\n",
    "    .drop_nulls(\"gpt_annotation\")\n",
    "    .select(\n",
    "        \"set_id\", \"label_id\", \n",
    "        (\n",
    "            pl.col(\"gpt_annotation\")\n",
    "            .str.split(\",\")\n",
    "            .list.eval(pl.element().str.strip_chars().str.to_lowercase())\n",
    "        )\n",
    "    )\n",
    "    .explode(\"gpt_annotation\")\n",
    "    .filter(pl.col(\"gpt_annotation\").ne('\"\"') & pl.col(\"gpt_annotation\").str.len_chars().ne(0))\n",
    ")\n",
    "\n",
    "unmatched_rows = (\n",
    "    manual_df\n",
    "    .join(gpt_df, on=[\"set_id\", \"label_id\"])\n",
    "    .join(manual_vs_gpt_cosine_df, on=[\"manual_annotation\", \"gpt_annotation\"], how=\"anti\")\n",
    "    .shape[0]\n",
    ")\n",
    "assert unmatched_rows == 0\n",
    "\n",
    "merged_df = (\n",
    "    manual_df\n",
    "    .join(gpt_df, on=[\"set_id\", \"label_id\"], how=\"full\")\n",
    "    .join(manual_vs_gpt_cosine_df, on=[\"manual_annotation\", \"gpt_annotation\"])\n",
    ")\n",
    "\n",
    "merged_df.head(2)"
   ]
  },
  {
   "cell_type": "code",
   "execution_count": 7,
   "id": "8be4ac27-ece1-4c3e-b9d6-25ef758b0718",
   "metadata": {},
   "outputs": [],
   "source": [
    "manual_annotations_best_match_df = (\n",
    "    merged_df\n",
    "    .group_by(\"set_id\", \"label_id\", \"manual_annotation\")\n",
    "    .agg(pl.col(\"cosine_similarity\").max())\n",
    "    .with_columns(match=pl.col(\"cosine_similarity\").ge(DIRECT_MATCH_CUTOFF))\n",
    ")\n",
    "\n",
    "gpt_annotations_best_match_df = (\n",
    "    merged_df\n",
    "    .group_by(\"set_id\", \"label_id\", \"gpt_annotation\")\n",
    "    .agg(pl.col(\"cosine_similarity\").max())\n",
    "    .with_columns(match=pl.col(\"cosine_similarity\").ge(DIRECT_MATCH_CUTOFF))\n",
    ")"
   ]
  },
  {
   "cell_type": "code",
   "execution_count": 8,
   "id": "60c31c9b-6482-43fe-824b-1ebf10a88d58",
   "metadata": {},
   "outputs": [
    {
     "data": {
      "text/html": [
       "<div><style>\n",
       ".dataframe > thead > tr,\n",
       ".dataframe > tbody > tr {\n",
       "  text-align: right;\n",
       "  white-space: pre-wrap;\n",
       "}\n",
       "</style>\n",
       "<small>shape: (1, 3)</small><table border=\"1\" class=\"dataframe\"><thead><tr><th>N</th><th>P</th><th>recall</th></tr><tr><td>u32</td><td>u32</td><td>f64</td></tr></thead><tbody><tr><td>1130</td><td>827</td><td>0.731858</td></tr></tbody></table></div>"
      ],
      "text/plain": [
       "shape: (1, 3)\n",
       "┌──────┬─────┬──────────┐\n",
       "│ N    ┆ P   ┆ recall   │\n",
       "│ ---  ┆ --- ┆ ---      │\n",
       "│ u32  ┆ u32 ┆ f64      │\n",
       "╞══════╪═════╪══════════╡\n",
       "│ 1130 ┆ 827 ┆ 0.731858 │\n",
       "└──────┴─────┴──────────┘"
      ]
     },
     "execution_count": 8,
     "metadata": {},
     "output_type": "execute_result"
    }
   ],
   "source": [
    "(\n",
    "    manual_annotations_best_match_df\n",
    "    .select(\n",
    "        N=pl.len(),\n",
    "        P=pl.col(\"match\").sum(),\n",
    "    )\n",
    "    .with_columns(recall=pl.col(\"P\").truediv(pl.col(\"N\")))\n",
    ")"
   ]
  },
  {
   "cell_type": "code",
   "execution_count": 9,
   "id": "206b7c42-d0ea-408a-a739-a885f85cc8a5",
   "metadata": {},
   "outputs": [
    {
     "data": {
      "text/html": [
       "<div><style>\n",
       ".dataframe > thead > tr,\n",
       ".dataframe > tbody > tr {\n",
       "  text-align: right;\n",
       "  white-space: pre-wrap;\n",
       "}\n",
       "</style>\n",
       "<small>shape: (1, 3)</small><table border=\"1\" class=\"dataframe\"><thead><tr><th>N</th><th>P</th><th>precision</th></tr><tr><td>u32</td><td>u32</td><td>f64</td></tr></thead><tbody><tr><td>729</td><td>721</td><td>0.989026</td></tr></tbody></table></div>"
      ],
      "text/plain": [
       "shape: (1, 3)\n",
       "┌─────┬─────┬───────────┐\n",
       "│ N   ┆ P   ┆ precision │\n",
       "│ --- ┆ --- ┆ ---       │\n",
       "│ u32 ┆ u32 ┆ f64       │\n",
       "╞═════╪═════╪═══════════╡\n",
       "│ 729 ┆ 721 ┆ 0.989026  │\n",
       "└─────┴─────┴───────────┘"
      ]
     },
     "execution_count": 9,
     "metadata": {},
     "output_type": "execute_result"
    }
   ],
   "source": [
    "(\n",
    "    gpt_annotations_best_match_df\n",
    "    .select(\n",
    "        N=pl.len(),\n",
    "        P=pl.col(\"match\").sum(),\n",
    "    )\n",
    "    .with_columns(precision=pl.col(\"P\").truediv(pl.col(\"N\")))\n",
    ")"
   ]
  },
  {
   "cell_type": "markdown",
   "id": "0194615b-7bcf-4080-91c6-b58ff374727a",
   "metadata": {},
   "source": [
    "# 2. Evaluation using RxNorm semantic similarity. Best match only!"
   ]
  },
  {
   "cell_type": "code",
   "execution_count": 10,
   "id": "00346c3a-23be-4b28-9d98-e3be26a5e3f1",
   "metadata": {},
   "outputs": [],
   "source": [
    "RXNORM_MATCH_CUTOFF = 0.9"
   ]
  },
  {
   "cell_type": "code",
   "execution_count": 11,
   "id": "b24f25d5-8fdd-4e95-a52a-e3aad0a48b52",
   "metadata": {},
   "outputs": [],
   "source": [
    "rxnorm_df = (\n",
    "    pl.read_csv(\"../data/rxnorm_ingredients_synonyms.tsv\", separator=\"\\t\")\n",
    "    .melt(id_vars=[\"concept_id\"], value_vars=[\"concept_name\", \"concept_synonym_name\"], value_name=\"name\")\n",
    "    .drop(\"variable\")\n",
    "    .drop_nulls(\"name\")\n",
    ")"
   ]
  },
  {
   "cell_type": "code",
   "execution_count": 12,
   "id": "3f4f4d77-c53c-4b36-ae5f-b8d69287c546",
   "metadata": {},
   "outputs": [],
   "source": [
    "manual_cosine_df = compute_cosine_df(manual=manual_embeddings_df, rxnorm=rxnorm_embeddings_df)\n",
    "gpt_cosine_df = compute_cosine_df(gpt=gpt_embeddings_df, rxnorm=rxnorm_embeddings_df)"
   ]
  },
  {
   "cell_type": "code",
   "execution_count": 13,
   "id": "0f5ec4b3-294b-4099-a0f5-b47c85bfd272",
   "metadata": {},
   "outputs": [],
   "source": [
    "manual_eval_df = (\n",
    "    manual_cosine_df\n",
    "    .filter(pl.col(\"cosine_similarity\").ge(RXNORM_MATCH_CUTOFF))\n",
    "    .sort(\"cosine_similarity\")\n",
    "    .filter(pl.col(\"cosine_similarity\").eq(pl.col(\"cosine_similarity\").max().over(\"manual\")))\n",
    "    .join(rxnorm_df, left_on=[\"rxnorm\"], right_on=[\"name\"])\n",
    ")\n",
    "\n",
    "gpt_eval_df = (\n",
    "    gpt_cosine_df\n",
    "    .filter(pl.col(\"cosine_similarity\").ge(RXNORM_MATCH_CUTOFF))\n",
    "    .sort(\"cosine_similarity\")\n",
    "    .filter(pl.col(\"cosine_similarity\").eq(pl.col(\"cosine_similarity\").max().over(\"gpt\")))\n",
    "    .join(rxnorm_df, left_on=[\"rxnorm\"], right_on=[\"name\"])\n",
    ")"
   ]
  },
  {
   "cell_type": "code",
   "execution_count": 14,
   "id": "bd578f99-24bd-4f09-ac60-688cdbed0e2d",
   "metadata": {},
   "outputs": [],
   "source": [
    "manual_rxnorm_df = (\n",
    "    manual_annotations_df\n",
    "    .with_columns(\n",
    "        pl.col(\"manual_annotation\").str.split(\",\").list.eval(pl.element().str.strip_chars())\n",
    "    )\n",
    "    .explode(\"manual_annotation\")\n",
    "    .join(manual_eval_df, left_on=[\"manual_annotation\"], right_on=[\"manual\"])\n",
    "    .select(\"set_id\", \"label_id\", \"concept_id\")\n",
    ")\n",
    "\n",
    "gpt_rxnorm_df = (\n",
    "    gpt_annotations_df\n",
    "    .with_columns(\n",
    "        pl.col(\"gpt_annotation\").str.split(\",\").list.eval(pl.element().str.strip_chars())\n",
    "    )\n",
    "    .explode(\"gpt_annotation\")\n",
    "    .join(gpt_eval_df, left_on=[\"gpt_annotation\"], right_on=[\"gpt\"])\n",
    "    .select(\"set_id\", \"label_id\", \"concept_id\")\n",
    ")"
   ]
  },
  {
   "cell_type": "code",
   "execution_count": 15,
   "id": "cad360ce-043e-41aa-8db3-e5ddd7e1d127",
   "metadata": {},
   "outputs": [
    {
     "data": {
      "text/html": [
       "<div><style>\n",
       ".dataframe > thead > tr,\n",
       ".dataframe > tbody > tr {\n",
       "  text-align: right;\n",
       "  white-space: pre-wrap;\n",
       "}\n",
       "</style>\n",
       "<small>shape: (1, 3)</small><table border=\"1\" class=\"dataframe\"><thead><tr><th>N</th><th>P</th><th>recall</th></tr><tr><td>u32</td><td>u32</td><td>f64</td></tr></thead><tbody><tr><td>674</td><td>399</td><td>0.591988</td></tr></tbody></table></div>"
      ],
      "text/plain": [
       "shape: (1, 3)\n",
       "┌─────┬─────┬──────────┐\n",
       "│ N   ┆ P   ┆ recall   │\n",
       "│ --- ┆ --- ┆ ---      │\n",
       "│ u32 ┆ u32 ┆ f64      │\n",
       "╞═════╪═════╪══════════╡\n",
       "│ 674 ┆ 399 ┆ 0.591988 │\n",
       "└─────┴─────┴──────────┘"
      ]
     },
     "execution_count": 15,
     "metadata": {},
     "output_type": "execute_result"
    }
   ],
   "source": [
    "(\n",
    "    manual_rxnorm_df\n",
    "    .join(gpt_rxnorm_df, on=[\"set_id\", \"label_id\"], suffix=\"_gpt\", how=\"full\")\n",
    "    .with_columns(match=pl.col(\"concept_id\").eq(pl.col(\"concept_id_gpt\")))\n",
    "    .group_by(\"set_id\", \"label_id\", \"concept_id\")\n",
    "    .agg(pl.col(\"match\").any().cast(pl.UInt32))\n",
    "    .select(\n",
    "        N=pl.len(),\n",
    "        P=pl.col(\"match\").sum(),\n",
    "    )\n",
    "    .with_columns(recall=pl.col(\"P\").truediv(pl.col(\"N\")))\n",
    ")"
   ]
  },
  {
   "cell_type": "code",
   "execution_count": 16,
   "id": "24260119-a0ee-4c29-bf39-32403b433638",
   "metadata": {},
   "outputs": [
    {
     "data": {
      "text/html": [
       "<div><style>\n",
       ".dataframe > thead > tr,\n",
       ".dataframe > tbody > tr {\n",
       "  text-align: right;\n",
       "  white-space: pre-wrap;\n",
       "}\n",
       "</style>\n",
       "<small>shape: (1, 3)</small><table border=\"1\" class=\"dataframe\"><thead><tr><th>N</th><th>P</th><th>precision</th></tr><tr><td>u32</td><td>u32</td><td>f64</td></tr></thead><tbody><tr><td>430</td><td>399</td><td>0.927907</td></tr></tbody></table></div>"
      ],
      "text/plain": [
       "shape: (1, 3)\n",
       "┌─────┬─────┬───────────┐\n",
       "│ N   ┆ P   ┆ precision │\n",
       "│ --- ┆ --- ┆ ---       │\n",
       "│ u32 ┆ u32 ┆ f64       │\n",
       "╞═════╪═════╪═══════════╡\n",
       "│ 430 ┆ 399 ┆ 0.927907  │\n",
       "└─────┴─────┴───────────┘"
      ]
     },
     "execution_count": 16,
     "metadata": {},
     "output_type": "execute_result"
    }
   ],
   "source": [
    "(\n",
    "    gpt_rxnorm_df\n",
    "    .join(manual_rxnorm_df, on=[\"set_id\", \"label_id\"], suffix=\"_manual\")\n",
    "    .with_columns(match=pl.col(\"concept_id\").eq(pl.col(\"concept_id_manual\")))\n",
    "    .group_by(\"set_id\", \"label_id\", \"concept_id\")\n",
    "    .agg(pl.col(\"match\").any().cast(pl.UInt32))\n",
    "    .select(\n",
    "        N=pl.len(),\n",
    "        P=pl.col(\"match\").sum(),\n",
    "    )\n",
    "    .with_columns(precision=pl.col(\"P\").truediv(pl.col(\"N\")))\n",
    ")"
   ]
  }
 ],
 "metadata": {
  "kernelspec": {
   "display_name": "Python 3 (ipykernel)",
   "language": "python",
   "name": "python3"
  },
  "language_info": {
   "codemirror_mode": {
    "name": "ipython",
    "version": 3
   },
   "file_extension": ".py",
   "mimetype": "text/x-python",
   "name": "python",
   "nbconvert_exporter": "python",
   "pygments_lexer": "ipython3",
   "version": "3.12.2"
  }
 },
 "nbformat": 4,
 "nbformat_minor": 5
}
