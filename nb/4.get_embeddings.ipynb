{
 "cells": [
  {
   "cell_type": "code",
   "execution_count": 1,
   "id": "92d70e6a-1f41-4c48-aebf-09b8dc7b807c",
   "metadata": {},
   "outputs": [
    {
     "name": "stderr",
     "output_type": "stream",
     "text": [
      "/Users/zietzm/Documents/projects/undina-llm/.venv/lib/python3.12/site-packages/sentence_transformers/cross_encoder/CrossEncoder.py:11: TqdmExperimentalWarning: Using `tqdm.autonotebook.tqdm` in notebook mode. Use `tqdm.tqdm` instead to force console mode (e.g. in jupyter console)\n",
      "  from tqdm.autonotebook import tqdm, trange\n"
     ]
    }
   ],
   "source": [
    "import pandas as pd\n",
    "import polars as pl\n",
    "from sqlmodel import Session, select\n",
    "from sentence_transformers import SentenceTransformer\n",
    "\n",
    "from undina_llm.db import SessionManager\n",
    "from undina_llm.models import Response, Prompt, SystemPrompt, DrugLabel"
   ]
  },
  {
   "cell_type": "markdown",
   "id": "0f2fdb12-de3d-41a4-9834-88ea6c889b75",
   "metadata": {},
   "source": [
    "# 1. Load the annotations"
   ]
  },
  {
   "cell_type": "code",
   "execution_count": 2,
   "id": "5b19a846-8f53-49d3-a1c8-b3d6fe492081",
   "metadata": {},
   "outputs": [
    {
     "data": {
      "text/html": [
       "<div><style>\n",
       ".dataframe > thead > tr,\n",
       ".dataframe > tbody > tr {\n",
       "  text-align: right;\n",
       "  white-space: pre-wrap;\n",
       "}\n",
       "</style>\n",
       "<small>shape: (2, 7)</small><table border=\"1\" class=\"dataframe\"><thead><tr><th>set_id</th><th>label_id</th><th>spl_version</th><th>title</th><th>section</th><th>label</th><th>manual_annotation</th></tr><tr><td>str</td><td>str</td><td>i64</td><td>str</td><td>str</td><td>str</td><td>list[str]</td></tr></thead><tbody><tr><td>&quot;908691b4-7950-4f3e-bbea-ea568f…</td><td>&quot;e6f0f0dd-940a-490f-a404-56dd56…</td><td>1</td><td>&quot;Isoxsuprine Hydrochloride Tabl…</td><td>&quot;DI&quot;</td><td>null</td><td>null</td></tr><tr><td>&quot;5a0ba417-8a4a-4d7f-b85a-1839ee…</td><td>&quot;8e64b577-1ecb-46f2-a7c8-3577a1…</td><td>5</td><td>&quot;These highlights do not includ…</td><td>&quot;DI&quot;</td><td>null</td><td>null</td></tr></tbody></table></div>"
      ],
      "text/plain": [
       "shape: (2, 7)\n",
       "┌────────────────┬────────────────┬─────────────┬────────────────┬─────────┬───────┬───────────────┐\n",
       "│ set_id         ┆ label_id       ┆ spl_version ┆ title          ┆ section ┆ label ┆ manual_annota │\n",
       "│ ---            ┆ ---            ┆ ---         ┆ ---            ┆ ---     ┆ ---   ┆ tion          │\n",
       "│ str            ┆ str            ┆ i64         ┆ str            ┆ str     ┆ str   ┆ ---           │\n",
       "│                ┆                ┆             ┆                ┆         ┆       ┆ list[str]     │\n",
       "╞════════════════╪════════════════╪═════════════╪════════════════╪═════════╪═══════╪═══════════════╡\n",
       "│ 908691b4-7950- ┆ e6f0f0dd-940a- ┆ 1           ┆ Isoxsuprine    ┆ DI      ┆ null  ┆ null          │\n",
       "│ 4f3e-bbea-ea56 ┆ 490f-a404-56dd ┆             ┆ Hydrochloride  ┆         ┆       ┆               │\n",
       "│ 8f…            ┆ 56…            ┆             ┆ Tabl…          ┆         ┆       ┆               │\n",
       "│ 5a0ba417-8a4a- ┆ 8e64b577-1ecb- ┆ 5           ┆ These          ┆ DI      ┆ null  ┆ null          │\n",
       "│ 4d7f-b85a-1839 ┆ 46f2-a7c8-3577 ┆             ┆ highlights do  ┆         ┆       ┆               │\n",
       "│ ee…            ┆ a1…            ┆             ┆ not includ…    ┆         ┆       ┆               │\n",
       "└────────────────┴────────────────┴─────────────┴────────────────┴─────────┴───────┴───────────────┘"
      ]
     },
     "execution_count": 2,
     "metadata": {},
     "output_type": "execute_result"
    }
   ],
   "source": [
    "manual_df = (\n",
    "    pl.read_csv(\"../data/merged_diff.csv\")\n",
    "    .with_columns(\n",
    "        pl.col(\"consensus\", \"additions\")\n",
    "        .str.split(\",\")\n",
    "        .list.eval(pl.element().str.strip_chars())\n",
    "        .list.unique()\n",
    "    )\n",
    "    .with_columns(\n",
    "        manual_annotation=(\n",
    "            pl.col(\"consensus\")\n",
    "            .list.set_union(pl.col(\"additions\"))\n",
    "            .list.unique()\n",
    "        )\n",
    "    )\n",
    "    .select(\"set_id\", \"label_id\", \"spl_version\", \"title\", \"section\", \"label\", \"manual_annotation\")\n",
    ")\n",
    "\n",
    "manual_df.with_columns(pl.col(\"manual_annotation\").list.join(\", \")).write_csv(\"../data/manual_annotations.csv\")\n",
    "\n",
    "manual_df.head(2)"
   ]
  },
  {
   "cell_type": "code",
   "execution_count": 3,
   "id": "5931f914-8a42-444f-94e5-03823ed3e9ee",
   "metadata": {},
   "outputs": [
    {
     "data": {
      "text/html": [
       "<div><style>\n",
       ".dataframe > thead > tr,\n",
       ".dataframe > tbody > tr {\n",
       "  text-align: right;\n",
       "  white-space: pre-wrap;\n",
       "}\n",
       "</style>\n",
       "<small>shape: (2, 8)</small><table border=\"1\" class=\"dataframe\"><thead><tr><th>id</th><th>system_prompt_id</th><th>prompt_id</th><th>drug_label_id</th><th>section</th><th>model</th><th>temperature</th><th>response</th></tr><tr><td>i64</td><td>i64</td><td>i64</td><td>i64</td><td>str</td><td>str</td><td>f64</td><td>str</td></tr></thead><tbody><tr><td>1469</td><td>1</td><td>2</td><td>1</td><td>&quot;DI&quot;</td><td>&quot;gpt-4o-2024-05-13&quot;</td><td>0.0</td><td>&quot;maprotiline,tricyclic antidepr…</td></tr><tr><td>1470</td><td>1</td><td>2</td><td>2</td><td>&quot;DI&quot;</td><td>&quot;gpt-4o-2024-05-13&quot;</td><td>0.0</td><td>&quot;&quot;</td></tr></tbody></table></div>"
      ],
      "text/plain": [
       "shape: (2, 8)\n",
       "┌──────┬─────────────┬───────────┬─────────────┬─────────┬─────────────┬─────────────┬─────────────┐\n",
       "│ id   ┆ system_prom ┆ prompt_id ┆ drug_label_ ┆ section ┆ model       ┆ temperature ┆ response    │\n",
       "│ ---  ┆ pt_id       ┆ ---       ┆ id          ┆ ---     ┆ ---         ┆ ---         ┆ ---         │\n",
       "│ i64  ┆ ---         ┆ i64       ┆ ---         ┆ str     ┆ str         ┆ f64         ┆ str         │\n",
       "│      ┆ i64         ┆           ┆ i64         ┆         ┆             ┆             ┆             │\n",
       "╞══════╪═════════════╪═══════════╪═════════════╪═════════╪═════════════╪═════════════╪═════════════╡\n",
       "│ 1469 ┆ 1           ┆ 2         ┆ 1           ┆ DI      ┆ gpt-4o-2024 ┆ 0.0         ┆ maprotiline │\n",
       "│      ┆             ┆           ┆             ┆         ┆ -05-13      ┆             ┆ ,tricyclic  │\n",
       "│      ┆             ┆           ┆             ┆         ┆             ┆             ┆ antidepr…   │\n",
       "│ 1470 ┆ 1           ┆ 2         ┆ 2           ┆ DI      ┆ gpt-4o-2024 ┆ 0.0         ┆             │\n",
       "│      ┆             ┆           ┆             ┆         ┆ -05-13      ┆             ┆             │\n",
       "└──────┴─────────────┴───────────┴─────────────┴─────────┴─────────────┴─────────────┴─────────────┘"
      ]
     },
     "execution_count": 3,
     "metadata": {},
     "output_type": "execute_result"
    }
   ],
   "source": [
    "SQLITE_FILE = \"sqlite:///../data/project.db\"\n",
    "\n",
    "manager = SessionManager(SQLITE_FILE)\n",
    "\n",
    "with Session(manager.engine) as session:\n",
    "    responses_df = pl.DataFrame(session.exec(select(Response).where((Response.section == \"DI\") & (Response.prompt_id == 2))).all())\n",
    "    system_prompts_df = pl.DataFrame(session.exec(select(SystemPrompt)).all())\n",
    "    prompts_df = pl.DataFrame(session.exec(select(Prompt)).all())\n",
    "    drug_labels_df = pl.DataFrame(session.exec(select(DrugLabel)).all())\n",
    "\n",
    "responses_df.head(2)"
   ]
  },
  {
   "cell_type": "code",
   "execution_count": 4,
   "id": "cce8d5e3-28b3-4981-bc78-43cc06f6fe81",
   "metadata": {},
   "outputs": [
    {
     "data": {
      "text/html": [
       "<div><style>\n",
       ".dataframe > thead > tr,\n",
       ".dataframe > tbody > tr {\n",
       "  text-align: right;\n",
       "  white-space: pre-wrap;\n",
       "}\n",
       "</style>\n",
       "<small>shape: (2, 7)</small><table border=\"1\" class=\"dataframe\"><thead><tr><th>set_id</th><th>label_id</th><th>spl_version</th><th>title</th><th>section</th><th>label</th><th>gpt_annotation</th></tr><tr><td>str</td><td>str</td><td>str</td><td>str</td><td>str</td><td>str</td><td>str</td></tr></thead><tbody><tr><td>&quot;297f0888-729c-4ce6-8779-6b239a…</td><td>&quot;297f0888-729c-4ce6-8779-6b239a…</td><td>&quot;1&quot;</td><td>&quot;ALBALON®\n",
       "(naphazoline hydrochl…</td><td>&quot;DI&quot;</td><td>&quot;Drug Interactions:\n",
       "\n",
       "Concurrent…</td><td>&quot;maprotiline,tricyclic antidepr…</td></tr><tr><td>&quot;908691b4-7950-4f3e-bbea-ea568f…</td><td>&quot;e6f0f0dd-940a-490f-a404-56dd56…</td><td>&quot;1&quot;</td><td>&quot;Isoxsuprine Hydrochloride Tabl…</td><td>&quot;DI&quot;</td><td>null</td><td>&quot;&quot;</td></tr></tbody></table></div>"
      ],
      "text/plain": [
       "shape: (2, 7)\n",
       "┌──────────────┬──────────────┬─────────────┬──────────────┬─────────┬──────────────┬──────────────┐\n",
       "│ set_id       ┆ label_id     ┆ spl_version ┆ title        ┆ section ┆ label        ┆ gpt_annotati │\n",
       "│ ---          ┆ ---          ┆ ---         ┆ ---          ┆ ---     ┆ ---          ┆ on           │\n",
       "│ str          ┆ str          ┆ str         ┆ str          ┆ str     ┆ str          ┆ ---          │\n",
       "│              ┆              ┆             ┆              ┆         ┆              ┆ str          │\n",
       "╞══════════════╪══════════════╪═════════════╪══════════════╪═════════╪══════════════╪══════════════╡\n",
       "│ 297f0888-729 ┆ 297f0888-729 ┆ 1           ┆ ALBALON®     ┆ DI      ┆ Drug Interac ┆ maprotiline, │\n",
       "│ c-4ce6-8779- ┆ c-4ce6-8779- ┆             ┆ (naphazoline ┆         ┆ tions:       ┆ tricyclic    │\n",
       "│ 6b239a…      ┆ 6b239a…      ┆             ┆ hydrochl…    ┆         ┆              ┆ antidepr…    │\n",
       "│              ┆              ┆             ┆              ┆         ┆ Concurrent…  ┆              │\n",
       "│ 908691b4-795 ┆ e6f0f0dd-940 ┆ 1           ┆ Isoxsuprine  ┆ DI      ┆ null         ┆              │\n",
       "│ 0-4f3e-bbea- ┆ a-490f-a404- ┆             ┆ Hydrochlorid ┆         ┆              ┆              │\n",
       "│ ea568f…      ┆ 56dd56…      ┆             ┆ e Tabl…      ┆         ┆              ┆              │\n",
       "└──────────────┴──────────────┴─────────────┴──────────────┴─────────┴──────────────┴──────────────┘"
      ]
     },
     "execution_count": 4,
     "metadata": {},
     "output_type": "execute_result"
    }
   ],
   "source": [
    "gpt_df = (\n",
    "    responses_df\n",
    "    .join(drug_labels_df, left_on=[\"drug_label_id\"], right_on=[\"id\"])\n",
    "    .drop([\"system_prompt_id\", \"prompt_id\", \"drug_label_id\", \"section\", \"model\", \"temperature\"])\n",
    "    .select(\n",
    "        \"set_id\", \"label_id\", \"spl_version\", \"title\", pl.lit(\"DI\").alias(\"section\"), \n",
    "        pl.col(\"DI\").alias(\"label\"), pl.col(\"response\").alias(\"gpt_annotation\")\n",
    "    )\n",
    ")\n",
    "\n",
    "gpt_df.write_csv(\"../data/gpt_annotations.csv\")\n",
    "\n",
    "gpt_df.head(2)"
   ]
  },
  {
   "cell_type": "markdown",
   "id": "709a9029-9678-4673-a4a9-c37eb171d3c2",
   "metadata": {},
   "source": [
    "# 2. Gather the unique annotation strings"
   ]
  },
  {
   "cell_type": "code",
   "execution_count": 5,
   "id": "c201f02a-ef79-402f-9d45-4023b90320d8",
   "metadata": {},
   "outputs": [
    {
     "name": "stdout",
     "output_type": "stream",
     "text": [
      "631\n"
     ]
    }
   ],
   "source": [
    "manual_annotations = (\n",
    "    manual_df\n",
    "    .explode(\"manual_annotation\")\n",
    "    .select(\"manual_annotation\")\n",
    "    .drop_nulls()\n",
    "    .unique()\n",
    "    [\"manual_annotation\"]\n",
    "    .to_list()\n",
    ")\n",
    "print(len(manual_annotations))"
   ]
  },
  {
   "cell_type": "code",
   "execution_count": 6,
   "id": "6524204a-1e45-45fb-81de-52fcc35f37a2",
   "metadata": {},
   "outputs": [
    {
     "name": "stdout",
     "output_type": "stream",
     "text": [
      "1896\n"
     ]
    }
   ],
   "source": [
    "gpt_annotations = (\n",
    "    gpt_df\n",
    "    .select(pl.col(\"gpt_annotation\").str.split(\",\"))\n",
    "    .explode(\"gpt_annotation\")\n",
    "    .filter(pl.col(\"gpt_annotation\").ne('\"\"'))\n",
    "    .select(\n",
    "        pl.col(\"gpt_annotation\")\n",
    "        .str.strip_chars()\n",
    "        .str.to_lowercase()\n",
    "    )\n",
    "    .unique()\n",
    "    [\"gpt_annotation\"]\n",
    "    .to_list()\n",
    ")\n",
    "\n",
    "print(len(gpt_annotations))"
   ]
  },
  {
   "cell_type": "markdown",
   "id": "c86c2dfc-f4ca-4cf9-9688-6b2bd7a3a292",
   "metadata": {},
   "source": [
    "# 3. Gather RxNorm ingredient names"
   ]
  },
  {
   "cell_type": "code",
   "execution_count": 7,
   "id": "5163566c-d4f5-47ac-a39f-11d6f8a66cc5",
   "metadata": {},
   "outputs": [
    {
     "name": "stdout",
     "output_type": "stream",
     "text": [
      "17131\n"
     ]
    },
    {
     "data": {
      "text/html": [
       "<div><style>\n",
       ".dataframe > thead > tr,\n",
       ".dataframe > tbody > tr {\n",
       "  text-align: right;\n",
       "  white-space: pre-wrap;\n",
       "}\n",
       "</style>\n",
       "<small>shape: (2, 2)</small><table border=\"1\" class=\"dataframe\"><thead><tr><th>concept_id</th><th>name</th></tr><tr><td>i64</td><td>str</td></tr></thead><tbody><tr><td>501343</td><td>&quot;hepatitis B immune globulin&quot;</td></tr><tr><td>501488</td><td>&quot;Hepatitis B Vaccine&quot;</td></tr></tbody></table></div>"
      ],
      "text/plain": [
       "shape: (2, 2)\n",
       "┌────────────┬─────────────────────────────┐\n",
       "│ concept_id ┆ name                        │\n",
       "│ ---        ┆ ---                         │\n",
       "│ i64        ┆ str                         │\n",
       "╞════════════╪═════════════════════════════╡\n",
       "│ 501343     ┆ hepatitis B immune globulin │\n",
       "│ 501488     ┆ Hepatitis B Vaccine         │\n",
       "└────────────┴─────────────────────────────┘"
      ]
     },
     "execution_count": 7,
     "metadata": {},
     "output_type": "execute_result"
    }
   ],
   "source": [
    "rxnorm_df = (\n",
    "    pl.read_csv(\"../data/rxnorm_ingredients_synonyms.tsv\", separator=\"\\t\")\n",
    "    .melt(id_vars=[\"concept_id\"], value_vars=[\"concept_name\", \"concept_synonym_name\"], value_name=\"name\")\n",
    "    .drop(\"variable\")\n",
    "    .drop_nulls(\"name\")\n",
    ")\n",
    "\n",
    "rxnorm_annotations = rxnorm_df.unique(\"name\")[\"name\"].to_list()\n",
    "print(len(rxnorm_annotations))\n",
    "\n",
    "rxnorm_df.head(2)"
   ]
  },
  {
   "cell_type": "markdown",
   "id": "e452b653-0182-424e-b24a-2f1a4ca230fd",
   "metadata": {},
   "source": [
    "# 4. Compute embeddings for each annotation"
   ]
  },
  {
   "cell_type": "code",
   "execution_count": 8,
   "id": "597af727-3853-4996-a89f-5d13dfe2bff5",
   "metadata": {},
   "outputs": [
    {
     "name": "stderr",
     "output_type": "stream",
     "text": [
      "/Users/zietzm/Documents/projects/undina-llm/.venv/lib/python3.12/site-packages/huggingface_hub/file_download.py:1132: FutureWarning: `resume_download` is deprecated and will be removed in version 1.0.0. Downloads always resume when possible. If you want to force a new download, use `force_download=True`.\n",
      "  warnings.warn(\n"
     ]
    }
   ],
   "source": [
    "embed_model = SentenceTransformer('llmrails/ember-v1')\n",
    "\n",
    "manual_embeddings = embed_model.encode(manual_annotations)\n",
    "gpt_embeddings = embed_model.encode(gpt_annotations)\n",
    "rxnorm_embeddings = embed_model.encode(rxnorm_annotations)"
   ]
  },
  {
   "cell_type": "code",
   "execution_count": 9,
   "id": "91ba7725-4597-46de-b686-3c570816c854",
   "metadata": {},
   "outputs": [],
   "source": [
    "manual_embeddings_df = pd.DataFrame(manual_embeddings, index=manual_annotations)\n",
    "gpt_embeddings_df = pd.DataFrame(gpt_embeddings, index=gpt_annotations)\n",
    "rxnorm_embeddings_df = pd.DataFrame(rxnorm_embeddings, index=rxnorm_annotations)\n",
    "\n",
    "manual_embeddings_df.to_csv(\"../data/manual_embeddings.csv\")\n",
    "gpt_embeddings_df.to_csv(\"../data/gpt_embeddings.csv\")\n",
    "rxnorm_embeddings_df.to_csv(\"../data/rxnorm_embeddings.csv.zst\")"
   ]
  }
 ],
 "metadata": {
  "kernelspec": {
   "display_name": "Python 3 (ipykernel)",
   "language": "python",
   "name": "python3"
  },
  "language_info": {
   "codemirror_mode": {
    "name": "ipython",
    "version": 3
   },
   "file_extension": ".py",
   "mimetype": "text/x-python",
   "name": "python",
   "nbconvert_exporter": "python",
   "pygments_lexer": "ipython3",
   "version": "3.12.2"
  }
 },
 "nbformat": 4,
 "nbformat_minor": 5
}
