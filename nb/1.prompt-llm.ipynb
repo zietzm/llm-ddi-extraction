{
 "cells": [
  {
   "cell_type": "code",
   "execution_count": 1,
   "id": "fd0226b3-b60b-4714-982c-8167501aa0af",
   "metadata": {},
   "outputs": [],
   "source": [
    "import json\n",
    "import pathlib\n",
    "\n",
    "import pandas as pd\n",
    "import polars as pl\n",
    "from openai import OpenAI\n",
    "import tqdm.notebook as tqdm\n",
    "\n",
    "from undina_llm.models import DrugLabel, Prompt, Response, SystemPrompt\n",
    "from undina_llm.db import SessionManager\n",
    "from undina_llm.llm import query"
   ]
  },
  {
   "cell_type": "code",
   "execution_count": 2,
   "id": "c8cacdff-a71f-4c9a-ba67-8022dc3dc52c",
   "metadata": {},
   "outputs": [],
   "source": [
    "SQLITE_FILE = \"sqlite:///../data/project.db\"\n",
    "\n",
    "manager = SessionManager(SQLITE_FILE)"
   ]
  },
  {
   "cell_type": "code",
   "execution_count": 4,
   "id": "354009f4-707f-416a-b61c-d050078d6cf1",
   "metadata": {},
   "outputs": [
    {
     "name": "stdout",
     "output_type": "stream",
     "text": [
      "1468 files\n"
     ]
    },
    {
     "data": {
      "text/plain": [
       "DrugLabel(label_id='297f0888-729c-4ce6-8779-6b239abf3c93', set_id='297f0888-729c-4ce6-8779-6b239abf3c93', id=1, spl_version='1', AR='ADVERSE REACTIONS\\n\\n\\n\\n\\n\\n\\n\\nOcular: Mydriasis, increased redness, irritation, discomfort, blurring, punctate keratitis, lacrimation, increased intraocular pressure.\\n\\n\\n\\n\\n\\n\\n\\n\\n\\n\\nSystemic: Dizziness, headache, nausea, sweating , nervousness, drowsiness, weakness, hypertension, cardiac irregularities, and hyperglycemia.', PR='PRECAUTIONS\\n\\n\\n\\n\\n\\nGeneral:\\n\\nFor topical ophthalmic use only. Use with caution in the presence of hypertension, cardiovascular abnormalities, hyperglycemia (diabetes), hyperthyroidism, infection or injury.\\n\\n\\n\\n\\n\\n\\n\\n\\nPatient Information:\\n\\nPatients should be advised to discontinue the drug and consult a physician if relief is not obtained within 48 hours of therapy, if irritation, blurring or redness persists or increases, or if symptoms of systemic absorption occur, i.e., dizziness, headache, nausea, decrease in body temperature, or drowsiness.\\nTo prevent contaminating the dropper tip and solution, do not touch the eyelids or the surrounding area with the dropper tip of the bottle. If solution changes color or becomes cloudy, do not use.\\n\\n\\n\\n\\n\\n\\n\\n\\nDrug Interactions:\\n\\nConcurrent use of maprotiline or tricyclic antidepressants and naphazoline may potentiate the pressor effect of naphazoline. Patients under therapy with MAO inhibitors may experience a severe hypertensive crisis if given a sympathomimetic drug. (See WARNINGS.)\\n\\n\\n\\n\\n\\n\\n\\n\\nPregnancy:\\n\\n\\n\\n\\n\\n\\n\\nPregnancy Category C: Animal reproduction studies have not been conducted with naphazoline. It is also not known whether naphazoline can cause fetal harm when administered to a pregnant woman or can affect reproduction capacity. Naphazoline should be given to a pregnant woman only if clearly needed.\\n\\n\\n\\n\\n\\n\\n\\n\\n\\n\\nNursing Mothers:\\n\\nIt is not known whether naphazoline is excreted in human milk. Because many drugs are excreted in human milk, caution should be exercised when naphazoline is administered to a nursing woman.\\n\\n\\n\\n\\n\\n\\n\\n\\nPediatric Use:\\n\\nSafety and effectiveness in pediatric patients have not been established. See “WARNINGS.” and “CONTRAINDICATIONS.”', CO='CONTRAINDICATIONS\\n\\nContraindicated in the presence of an anatomically narrow angle or in narrow-angle glaucoma or in persons who have shown hypersensitivity to any component of this preparation.', DI='Drug Interactions:\\n\\nConcurrent use of maprotiline or tricyclic antidepressants and naphazoline may potentiate the pressor effect of naphazoline. Patients under therapy with MAO inhibitors may experience a severe hypertensive crisis if given a sympathomimetic drug. (See WARNINGS.)', SP=None, BW=None, MC=None, title='ALBALON®\\n(naphazoline hydrochloride ophthalmic solution, USP) 0.1%', WA='WARNINGS\\n\\nPatients under therapy with MAO inhibitors may experience a severe hypertensive crisis if given a sympathomimetic drug. Use in children, especially infants, may result in CNS depression leading to coma and marked reduction in body temperature.', IU='INDICATIONS AND USAGE\\n\\nNaphazoline Hydrochloride Ophthalmic Solution is indicated for use as a topical ocular vasoconstrictor.', WP=None, DS=None, OV=None, MI=None)"
      ]
     },
     "execution_count": 4,
     "metadata": {},
     "output_type": "execute_result"
    }
   ],
   "source": [
    "root = pathlib.Path(\"../data/latest_labels_ingredients/\")\n",
    "files = sorted(root.glob(\"*.json\"))\n",
    "\n",
    "print(len(files), \"files\")\n",
    "\n",
    "labels_df = pl.concat([pl.read_json(file).unnest(\"sections\") for file in files], how=\"diagonal\")\n",
    "\n",
    "labels = [DrugLabel.model_validate(label) for label in labels_df.to_dicts()]\n",
    "\n",
    "for label in labels:\n",
    "    try:\n",
    "        manager.get_drug_label(label)\n",
    "    except:\n",
    "        manager.register_drug_label(label)\n",
    "    \n",
    "labels = [manager.get_drug_label(label) for label in labels]\n",
    "\n",
    "labels[0]"
   ]
  },
  {
   "attachments": {},
   "cell_type": "markdown",
   "id": "e29a8968-c8ad-4474-89a7-fb98ce906ef3",
   "metadata": {},
   "source": [
    "# Inspect data\n",
    "\n",
    "* DI: Drug interactions\n",
    "* CO: Contraindications"
   ]
  },
  {
   "cell_type": "code",
   "execution_count": 4,
   "id": "65b066c3-1678-4a75-9dc7-285a25f92b39",
   "metadata": {},
   "outputs": [
    {
     "name": "stdout",
     "output_type": "stream",
     "text": [
      "CONTRAINDICATIONS\n",
      "\n",
      "Contraindicated in the presence of an anatomically narrow angle or in narrow-angle glaucoma or in persons who have shown hypersensitivity to any component of this preparation.\n",
      "\n",
      "CONTRAINDICATIONS\n",
      "\n",
      "There are no known contraindications to oral use when administered in recommended doses.\n",
      "Isoxsuprine Hydrochloride, USP should not be given immediately postpartum or in the presence of arterial bleeding.\n",
      "\n",
      "4 CONTRAINDICATIONS\n",
      "\n",
      "None.\n",
      "\n",
      "\n",
      "\n",
      "\n",
      "\n",
      "None. (4)\n",
      "\n",
      "4 CONTRAINDICATIONS\n",
      "\n",
      "None.\n",
      "\n",
      "\n",
      "\n",
      "\n",
      "\n",
      "None (4)\n",
      "\n",
      "4 CONTRAINDICATIONS\n",
      "\n",
      "None.\n",
      "\n",
      "\n",
      "\n",
      "\n",
      "\n",
      "None (4)\n",
      "\n",
      "\n"
     ]
    }
   ],
   "source": [
    "print(\n",
    "    labels_df\n",
    "    .select(\"spl_version\", \"CO\", \"DI\")\n",
    "    # .filter(~pl.col(\"CO\").str.starts_with(\"CONTRAINDICATIONS\"))\n",
    "    # .filter(~pl.col(\"CO\").str.starts_with(\"4 CONTRAINDICATIONS\"))\n",
    "    # .filter(~pl.col(\"CO\").str.starts_with(\"4  CONTRAINDICATIONS\"))\n",
    "    # .filter(~pl.col(\"CO\").str.contains(\"CONTRAINDICATION|contraindication|Contraindication\"))\n",
    "    # [\"CO\"].to_pandas()\n",
    "    [\"CO\"][:5].to_pandas().add(\"\\n\\n\").sum()\n",
    ")"
   ]
  },
  {
   "cell_type": "markdown",
   "id": "7e831315-bdb9-47fc-abfa-ff6d937f8d29",
   "metadata": {},
   "source": [
    "# Extract data"
   ]
  },
  {
   "cell_type": "code",
   "execution_count": 5,
   "id": "eba6d264-1cee-4217-b600-95fba421efb3",
   "metadata": {},
   "outputs": [],
   "source": [
    "with open('../config.json') as f:\n",
    "    config = json.load(f)\n",
    "\n",
    "api_key = config[\"OpenAI\"]['openai_api_key']\n",
    "client = OpenAI(api_key=api_key)"
   ]
  },
  {
   "cell_type": "code",
   "execution_count": 6,
   "id": "4cd21587-5fac-406c-a1e7-7861b6009193",
   "metadata": {},
   "outputs": [],
   "source": [
    "model = \"gpt-4o-2024-05-13\"\n",
    "temperature = 0\n",
    "seed = 0\n",
    "\n",
    "system_prompt = \"You are an expert in medical natural language processing, adverse drug reactions, pharmacology, and clinical trials.\""
   ]
  },
  {
   "cell_type": "code",
   "execution_count": 7,
   "id": "8dd70a5f-5cf0-4197-b32a-fe20be958f16",
   "metadata": {},
   "outputs": [],
   "source": [
    "try:\n",
    "    system_prompt_obj = manager.get_system_prompt(system_prompt)\n",
    "except Exception:\n",
    "    system_prompt_obj = manager.register_system_prompt(system_prompt)"
   ]
  },
  {
   "cell_type": "markdown",
   "id": "e3ce047c-8f62-4655-abdf-1c4d353093b7",
   "metadata": {},
   "source": [
    "## 1. Contraindications"
   ]
  },
  {
   "cell_type": "code",
   "execution_count": 8,
   "id": "b4767d0e-ac73-4376-bfe1-8d5748366bbc",
   "metadata": {},
   "outputs": [],
   "source": [
    "prompt = \"\"\"\n",
    "Contraindications designate circumstances in which a drug should not be administered to a patient.\n",
    "You are to extract all contraindications from the structured product label. \n",
    "Return these values in a comma separated list.\n",
    "If a contraindication is negated, extract it and prepend a <negated> tag.\n",
    "Note that negating a contraindication means that the condition is not contraindicated, representing a double negative.\n",
    "You should only extract the portions that list the specific conditions that contraindicate drug administration. \n",
    "Exclude the name of the drug and other contextual information beyond the conditions themselves.\n",
    "If no contraindications are listed, simply return an empty string.\n",
    "\n",
    "The structured product label for you to analyze is triple quoted below:\n",
    "\\\"\\\"\\\"{}\\\"\\\"\\\"\n",
    "\"\"\""
   ]
  },
  {
   "cell_type": "code",
   "execution_count": 9,
   "id": "6371a7e1-0be5-4eae-9fee-8ce6e6b4c7bd",
   "metadata": {},
   "outputs": [],
   "source": [
    "try:\n",
    "    prompt_obj = manager.get_prompt(prompt)\n",
    "except Exception:\n",
    "    prompt_obj = manager.register_prompt(prompt)"
   ]
  },
  {
   "cell_type": "code",
   "execution_count": 10,
   "id": "0542a6ac-e7ea-4d54-8002-57ff86797c9d",
   "metadata": {},
   "outputs": [
    {
     "data": {
      "application/vnd.jupyter.widget-view+json": {
       "model_id": "60cf38bf79f74ee6b2d8932d52d24bd7",
       "version_major": 2,
       "version_minor": 0
      },
      "text/plain": [
       "  0%|          | 0/1468 [00:00<?, ?it/s]"
      ]
     },
     "metadata": {},
     "output_type": "display_data"
    },
    {
     "name": "stdout",
     "output_type": "stream",
     "text": [
      "Error processing title='Fludrocortisone Acetate Tablets, USP\\n\\n(0.1 mg)' WA='WARNINGS\\n\\n\\nBECAUSE OF ITS MARKED EFFECT ON SODIUM RETENTION THE USE OF FLUDROCORTISONE ACETATE IN THE TREATMENT OF CONDITIONS OTHER THAN THOSE INDICATED HEREIN IS NOT ADVISED.\\n\\nCorticosteroids may mask some signs of infection, and new infections may appear during their use. There may be decreased resistance and inability to localize infection when corticosteroids are used. If an infection occurs during fludrocortisone acetate therapy, it should be promptly controlled by suitable antimicrobial therapy.\\nProlonged use of corticosteroids may produce posterior subcapsular cataracts, glaucoma with possible damage to the optic nerves, and may enhance the establishment of secondary ocular infections due to fungi or viruses.\\nAverage and large doses of hydrocortisone or cortisone can cause elevation of blood pressure, salt and water retention, and increased excretion of potassium. These effects are less likely to occur with the synthetic derivatives except when used in large doses. However, since fludrocortisone acetate is a potent mineralocorticoid, both the dosage and salt intake should be carefully monitored in order to avoid the development of hypertension, edema or weight gain. Periodic checking of serum electrolyte levels is advisable during prolonged therapy; dietary salt restriction and potassium supplementation may be necessary. All corticosteroids increase calcium excretion.\\nPatients should not be vaccinated against smallpox while on corticosteroid therapy. Other immunization procedures should not be undertaken in patients who are on corticosteroids, especially on high dose, because of possible hazards of neurological complications and a lack of antibody response.\\nThe use of fludrocortisone acetate in patients with active tuberculosis should be restricted to those cases of fulminating or disseminated tuberculosis in which the corticosteroid is used for the management of the disease in conjunction with an appropriate antituberculous regimen. If corticosteroids are indicated in patients with latent tuberculosis or tuberculin reactivity, close observation is necessary since reactivation of the disease may occur. During prolonged corticosteroid therapy these patients should receive chemoprophylaxis.\\nChildren who are on immunosuppressant drugs are more susceptible to infections than healthy children. Chicken pox and measles, for example, can have a more serious or even fatal course in children on immunosuppressant corticosteroids. In such children, or in adults who have not had these diseases, particular care should be taken to avoid exposure. If exposed, therapy with variicella zoster immune globulin (VZIG) or pooled intravenous immunoglobulin (IVIG), as appropriate, may be indicated. If chicken pox develops, treatment with antiviral agents may be considered.' PR='PRECAUTIONS\\n\\n\\n\\n\\n\\n\\nGeneral\\n\\nAdverse reactions to corticosteroids may be produced by too rapid withdrawal or by continued use of large doses.\\nTo avoid drug-induced adrenal insufficiency, supportive dosage may be required in times of stress (such as trauma, surgery, or severe illness) both during treatment with fludrocortisone acetate and for a year afterwards.\\nThere is an enhanced corticosteroid effect in patients with hypothyroidism and in those with cirrhosis.\\nCorticosteroids should be used cautiously in patients with ocular herpes simplex because of possible corneal perforation.\\nThe lowest possible dose of corticosteroid should be used to control the condition being treated. A gradual reduction in dosage should be made when possible.\\nPsychic derangements may appear when corticosteroids are used. These may range from euphoria, insomnia, mood swings, personality changes, and severe depression to frank psychotic manifestations. Existing emotional instability or psychotic tendencies may also be aggravated by corticosteroids.\\nAspirin should be used cautiously in conjunction with corticosteroids in patients with hypoprothrombinemia.\\nCorticosteroids should be used with caution in patients with nonspecific ulcerative colitis if there is a probability of impending perforation, abscess, or other pyogenic infection. Corticosteroids should also be used cautiously in patients with diverticulitis, fresh intestinal anastomoses, active or latent peptic ulcer, renal insufficiency, hypertension, osteoporosis, and myasthenia gravis.\\n\\n\\n\\n\\n\\n\\n\\n\\nInformation for Patients\\n\\nThe physician should advise the patient to report any medical history of heart disease, high blood pressure, or kidney or liver disease and to report current use of any medicines to determine if these medicines might interact adversely with fludrocortisone acetate (see \\nDrug Interactions\\n).\\nPatients who are on immunosuppressant doses of corticosteroids should be warned to avoid exposure to chicken pox or measles and, if exposed, to obtain medical advice.\\nThe patient’s understanding of his steroid-dependent status and increased dosage requirement under widely variable conditions of stress is vital. Advise the patient to carry medical identification indicating his dependence on steroid medication and, if necessary, instruct him to carry an adequate supply of medication for use in emergencies.\\nStress to the patient the importance of regular follow-up visits to check his progress and the need to promptly notify the physician of dizziness, severe or continuing headaches, swelling of feet or lower legs, or unusual weight gain.\\nAdvise the patient to use the medicine only as directed, to take a missed dose as soon as possible, unless it is almost time for the next dose, and not to double the next dose.\\nInform the patient to keep this medication and all drugs out of the reach of children.\\n\\n\\n\\n\\n\\n\\n\\n\\nLaboratory Tests\\n\\nPatients should be monitored regularly for blood pressure determinations and serum electrolyte determinations (see\\n WARNINGS\\n).\\n\\n\\n\\n\\n\\n\\n\\n\\nDrug Interactions\\n\\nWhen administered concurrently, the following drugs may interact with adrenal corticosteroids.\\n\\nAmphotericin B or potassium-depleting diuretics (benzothiadiazines and related drugs, ethacrynic acid and furosemide)—enhanced hypokalemia. Check serum potassium levels at frequent intervals; use potassium supplements if necessary (see \\nWARNINGS\\n).\\n\\nDigitalis glycosides— enhanced possibility of arrhythmias or digitalis toxicity associated with hypokalemia. Monitor serum potassium levels; use potassium supplements if necessary.\\n\\nOral anticoagulants— decreased prothrombin time response. Monitor prothrombin levels and adjust anticoagulant dosage accordingly.\\n\\nAntidiabetic drugs (oral agents and insulin)—diminished antidiabetic effect. Monitor for symptoms of hyperglycemia; adjust dosage of antidiabetic drug upward if necessary.\\n\\nAspirin— increased ulcerogenic effect; decreased pharmacologic effect of aspirin. Rarely salicylate toxicity may occur in patients who discontinue steroids after concurrent high-dose aspirin therapy. Monitor salicylate levels or the therapeutic effect for which aspirin is given; adjust salicylate dosage accordingly if effect is altered (see \\nPRECAUTIONS, General\\n).\\n\\nBarbiturates, phenytoin, or rifampin—increased metabolic clearance of fludrocortisone acetate because of the induction of hepatic enzymes. Observe the patient for possible diminished effect of steroid and increase the steroid dosage accordingly.\\n\\nAnabolic steroids (particularly C-17 alkylated androgens such as oxymetholone, methandrostenolone, norethandrolone, and similar compounds)—enhanced tendency toward edema. Use caution when giving these drugs together, especially in patients with hepatic or cardiac disease.\\n\\nVaccines—neurological complications and lack of antibody response (see \\nWARNINGS\\n).\\n\\nEstrogen—increased levels of corticosteroid-binding globulin thereby increasing the bound (inactive) fraction; this effect is at least balanced by decreased metabolism of corticosteroids. When estrogen therapy is initiated, a reduction in corticosteroid dosage may be required, and increased amounts may be required when estrogen is terminated.\\n\\n\\n\\n\\n\\n\\n\\n\\nDrug/Laboratory Test Interactions\\n\\nCorticosteroids may affect the nitrobluetetrazolium test for bacterial infection and produce false-negative results.\\n\\n\\n\\n\\n\\n\\n\\n\\nCarcinogenesis, Mutagenesis, Impairment of Fertility\\n\\nAdequate studies have not been performed in animals to determine whether fludrocortisone acetate has carcinogenic or mutagenic activity or whether it affects fertility in males or females.\\n\\n\\n\\n\\n\\n\\n\\n\\n\\nPregnancy:\\nTeratogenic Effects: Category C\\n\\n\\n\\n\\nAdequate animal reproduction studies have not been conducted with fludrocortisone acetate. However, many corticosteroids have been shown to be teratogenic in laboratory animals at low doses. Teratogenicity of these agents in man has not been demonstrated. It is not known whether fludrocortisone acetate can cause fetal harm when administered to a pregnant woman or can affect reproduction capacity. Fludrocortisone acetate should be given to a pregnant woman only if clearly needed.\\n\\n\\n\\n\\n\\n\\n\\n\\n\\nPregnancy:\\nNonteratogenic Effects\\n\\n\\n\\n\\nInfants born of mothers who have received substantial doses of fludrocortisone acetate during pregnancy should be carefully observed for signs of hypoadrenalism.\\nMaternal treatment with corticosteroids should be carefully documented in the infant’s medical records to assist in follow up.\\n\\n\\n\\n\\n\\n\\n\\n\\nNursing Mothers\\n\\nCorticosteroids are found in the breast milk of lactating women receiving systemic therapy with these agents. Caution should be exercised when fludrocortisone acetate is administered to a nursing woman.\\n\\n\\n\\n\\n\\n\\n\\n\\nPediatric Use\\n\\nSafety and effectiveness in children have not been established. \\nGrowth and development of infants and children on prolonged corticosteroid therapy should be carefully observed.' CO='CONTRAINDICATIONS\\n\\nCorticosteroids are contraindicated in patients with systemic fungal infections and in those with a history of possible or known hypersensitivity to these agents.' WP=None DS=None OV='OVERDOSAGE\\n\\nDevelopment of hypertension, edema, hypokalemia, excessive increase in weight, and increase in heart size are signs of overdosage of fludrocortisone acetate. When these are noted, administration of drugs should be discontinued, after which the symptoms will usually subside within several days; subsequent treatment with fludrocortisone acetate should be with a reduced dose. Muscular weakness may develop due to excessive potassium loss and can be treated by administering a potassium supplement. Regular monitoring of blood pressure and serum electrolytes can help to prevent overdosage (see \\nWARNINGS\\n).' MI=None label_id='0c6f4e43-c7f8-4bd7-9e9c-f40f83bfd353' set_id='51363453-6d33-4aee-8426-37ac0bf3cc10' id=1006 spl_version='4' AR='ADVERSE REACTIONS\\n\\nMost adverse reactions are caused by the drug’s mineralocorticoid activity (retention of sodium and water) and include hypertension, edema, cardiac enlargement, congestive heart failure, potassium loss, and hypokalemic alkalosis.\\nWhen fludrocortisone is used in the small dosages recommended, the glucocorticoid side effects often seen with cortisone and its derivatives are not usually a problem; however the following untoward effects should be kept in mind, particularly when fludrocortisone is used over a prolonged period of time or in conjunction with cortisone or a similar glucocorticoid.\\n\\nMusculoskeletal—muscle weakness, steroid myopathy, loss of muscle mass, osteoporosis, vertebral compression fractures, aseptic necrosis of femoral and humeral heads, pathologic fracture of long bones, and spontaneous fractures.\\n\\nGastrointestinal—peptic ulcer with possible perforation and hemorrhage, pancreatitis, abdominal distention, and ulcerative esophagitis.\\n\\nDermatologic—impaired wound healing, thin fragile skin, bruising, petechiae and ecchymoses, facial erythema, increased sweating, subcutaneous fat atrophy, purpura, striae, hyperpigmentation of the skin and nails, hirsutism, acneiform eruptions and hives; reactions to skin tests may be suppressed.\\n\\nNeurological—convulsions, increased intracranial pressure with papilledema (psuedo-tumor cerebri) usually after treatment, vertigo, headache, and severe mental disturbances.\\n\\nEndocrine—menstrual irregularities; development of the cushingoid state; suppression of growth in children; secondary adrenocortical and pituitary unresponsiveness, particularly in times of stress (e.g., trauma, surgery, or illness); decreased carbohydrate tolerance; manifestations of latent diabetes mellitus; and increased requirements for insulin or oral hypoglycemic agents in diabetics.\\n\\nOphthalmic—posterior subcapsular cataracts, increased intraocular pressure, glaucoma, and exophthalmos.\\n\\nMetabolic—hyperglycemia, glycosuria, and negative nitrogen balance due to protein catabolism.\\n\\nAllergic Reactions—allergic skin rash, maculopapular rash, and urticaria.\\nOther adverse reactions that may occur following the administration of a corticosteroid are necrotizing angiitis, thrombophlebitis, aggravation or masking of infections, insomnia, syncopal episodes, and anaphylactoid reactions.\\n\\nTo report SUSPECTED ADVERSE REACTIONS, contact Amneal Pharmaceuticals at 1-877-835-5472 or FDA at 1-800-FDA-1088 or www.fda.gov/medwatch.' IU='INDICATIONS AND USAGE\\n\\nFludrocortisone acetate tablets, 0.1 mg are indicated as partial replacement therapy for primary and secondary adrenocortical insufficiency in Addison’s disease and for the treatment of salt-losing adrenogenital syndrome.' DI='Drug Interactions\\n\\nWhen administered concurrently, the following drugs may interact with adrenal corticosteroids.\\n\\nAmphotericin B or potassium-depleting diuretics (benzothiadiazines and related drugs, ethacrynic acid and furosemide)—enhanced hypokalemia. Check serum potassium levels at frequent intervals; use potassium supplements if necessary (see \\nWARNINGS\\n).\\n\\nDigitalis glycosides— enhanced possibility of arrhythmias or digitalis toxicity associated with hypokalemia. Monitor serum potassium levels; use potassium supplements if necessary.\\n\\nOral anticoagulants— decreased prothrombin time response. Monitor prothrombin levels and adjust anticoagulant dosage accordingly.\\n\\nAntidiabetic drugs (oral agents and insulin)—diminished antidiabetic effect. Monitor for symptoms of hyperglycemia; adjust dosage of antidiabetic drug upward if necessary.\\n\\nAspirin— increased ulcerogenic effect; decreased pharmacologic effect of aspirin. Rarely salicylate toxicity may occur in patients who discontinue steroids after concurrent high-dose aspirin therapy. Monitor salicylate levels or the therapeutic effect for which aspirin is given; adjust salicylate dosage accordingly if effect is altered (see \\nPRECAUTIONS, General\\n).\\n\\nBarbiturates, phenytoin, or rifampin—increased metabolic clearance of fludrocortisone acetate because of the induction of hepatic enzymes. Observe the patient for possible diminished effect of steroid and increase the steroid dosage accordingly.\\n\\nAnabolic steroids (particularly C-17 alkylated androgens such as oxymetholone, methandrostenolone, norethandrolone, and similar compounds)—enhanced tendency toward edema. Use caution when giving these drugs together, especially in patients with hepatic or cardiac disease.\\n\\nVaccines—neurological complications and lack of antibody response (see \\nWARNINGS\\n).\\n\\nEstrogen—increased levels of corticosteroid-binding globulin thereby increasing the bound (inactive) fraction; this effect is at least balanced by decreased metabolism of corticosteroids. When estrogen therapy is initiated, a reduction in corticosteroid dosage may be required, and increased amounts may be required when estrogen is terminated.' SP=None BW=None MC=None\n"
     ]
    }
   ],
   "source": [
    "errors = list()\n",
    "\n",
    "for label in tqdm.tqdm(labels):\n",
    "    response_template = Response(\n",
    "        system_prompt=system_prompt_obj,\n",
    "        prompt=prompt_obj,\n",
    "        drug_label=label,\n",
    "        section=\"CO\",\n",
    "        model=model,\n",
    "        temperature=temperature,\n",
    "        response=\"\"\n",
    "    )\n",
    "    response = manager.get_response(response_template)\n",
    "    if response is None:\n",
    "        try:\n",
    "            result = query(client, system_prompt_obj, prompt_obj, label, \"CO\", model, temperature, seed)\n",
    "            manager.register_response(result)\n",
    "        except Exception:\n",
    "            print(f\"Error processing {label}\")\n",
    "            errors.append(label)"
   ]
  },
  {
   "cell_type": "markdown",
   "id": "3c9b412d-394d-40e5-bd08-6031be48e5ce",
   "metadata": {},
   "source": [
    "## 2. Drug interactions"
   ]
  },
  {
   "cell_type": "code",
   "execution_count": 11,
   "id": "3ead9d1c-d30b-4439-b6fb-b07be76a6fd2",
   "metadata": {},
   "outputs": [],
   "source": [
    "prompt = \"\"\"\n",
    "Drug interactions designate drugs which, when taken at the same time as the drug of interest, could lead to adverse reactions for the patient.\n",
    "You are to extract all drug interactions from the structured product label. \n",
    "Return these values in a comma separated list.\n",
    "You should only extract the portions that list the specific drug or product names. \n",
    "Exclude the names of conditions, adverse reactions, and other contextual information beyond the drugs or products themselves.\n",
    "Exclude the name of the drug whose label is given.\n",
    "If no drug interactions are listed, simply return an empty string.\n",
    "Do not return anything but a comma separated list of drug, product, and ingredient names.\n",
    "Ensure that all drug names are separated from one another using a comma only.\n",
    "Do not delimit drug names by 'and' or '/' or anything other than a comma.\n",
    "Do not include any additional text whatsoever.\n",
    "\n",
    "The structured product label for you to analyze is triple quoted below:\n",
    "\\\"\\\"\\\"{}\\\"\\\"\\\"\n",
    "\"\"\""
   ]
  },
  {
   "cell_type": "code",
   "execution_count": 12,
   "id": "9cc38daa-38d5-4e14-9452-53596c9bcc03",
   "metadata": {},
   "outputs": [],
   "source": [
    "try:\n",
    "    prompt_obj = manager.get_prompt(prompt)\n",
    "except Exception:\n",
    "    prompt_obj = manager.register_prompt(prompt)"
   ]
  },
  {
   "cell_type": "code",
   "execution_count": 13,
   "id": "99428db9-04c8-4e51-940d-b2d83b7706d2",
   "metadata": {},
   "outputs": [
    {
     "data": {
      "application/vnd.jupyter.widget-view+json": {
       "model_id": "a615198ba179411e9e5fa1c625be3e8e",
       "version_major": 2,
       "version_minor": 0
      },
      "text/plain": [
       "  0%|          | 0/1468 [00:00<?, ?it/s]"
      ]
     },
     "metadata": {},
     "output_type": "display_data"
    }
   ],
   "source": [
    "errors = list()\n",
    "\n",
    "for label in tqdm.tqdm(labels):\n",
    "    response_template = Response(\n",
    "        system_prompt=system_prompt_obj,\n",
    "        prompt=prompt_obj,\n",
    "        drug_label=label,\n",
    "        section=\"DI\",\n",
    "        model=model,\n",
    "        temperature=temperature,\n",
    "        response=\"\"\n",
    "    )\n",
    "    response = manager.get_response(response_template)\n",
    "    if response is None:\n",
    "        try:\n",
    "            result = query(client, system_prompt_obj, prompt_obj, label, \"DI\", model, temperature, seed)\n",
    "            manager.register_response(result)\n",
    "        except Exception:\n",
    "            print(f\"Error processing {label}\")\n",
    "            errors.append(label)"
   ]
  }
 ],
 "metadata": {
  "kernelspec": {
   "display_name": "Python 3 (ipykernel)",
   "language": "python",
   "name": "python3"
  },
  "language_info": {
   "codemirror_mode": {
    "name": "ipython",
    "version": 3
   },
   "file_extension": ".py",
   "mimetype": "text/x-python",
   "name": "python",
   "nbconvert_exporter": "python",
   "pygments_lexer": "ipython3",
   "version": "3.12.2"
  }
 },
 "nbformat": 4,
 "nbformat_minor": 5
}
