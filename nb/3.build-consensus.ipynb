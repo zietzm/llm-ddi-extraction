{
 "cells": [
  {
   "cell_type": "code",
   "execution_count": 1,
   "id": "fe4377ab-72de-45c9-878d-5bb1d8143c60",
   "metadata": {},
   "outputs": [],
   "source": [
    "import pandas as pd\n",
    "import polars as pl"
   ]
  },
  {
   "cell_type": "code",
   "execution_count": 2,
   "id": "97009285-80e6-46e9-b611-fa6a16453bea",
   "metadata": {},
   "outputs": [
    {
     "data": {
      "text/html": [
       "<div><style>\n",
       ".dataframe > thead > tr,\n",
       ".dataframe > tbody > tr {\n",
       "  text-align: right;\n",
       "  white-space: pre-wrap;\n",
       "}\n",
       "</style>\n",
       "<small>shape: (2, 8)</small><table border=\"1\" class=\"dataframe\"><thead><tr><th>set_id</th><th>label_id</th><th>spl_version</th><th>title</th><th>section</th><th>label</th><th>uog_annotation</th><th>mnz_annotation</th></tr><tr><td>str</td><td>str</td><td>i64</td><td>str</td><td>str</td><td>str</td><td>str</td><td>str</td></tr></thead><tbody><tr><td>&quot;908691b4-7950-4f3e-bbea-ea568f…</td><td>&quot;e6f0f0dd-940a-490f-a404-56dd56…</td><td>1</td><td>&quot;Isoxsuprine Hydrochloride Tabl…</td><td>&quot;DI&quot;</td><td>null</td><td>null</td><td>null</td></tr><tr><td>&quot;5a0ba417-8a4a-4d7f-b85a-1839ee…</td><td>&quot;8e64b577-1ecb-46f2-a7c8-3577a1…</td><td>5</td><td>&quot;These highlights do not includ…</td><td>&quot;DI&quot;</td><td>null</td><td>null</td><td>null</td></tr></tbody></table></div>"
      ],
      "text/plain": [
       "shape: (2, 8)\n",
       "┌─────────────┬─────────────┬─────────────┬────────────┬─────────┬───────┬────────────┬────────────┐\n",
       "│ set_id      ┆ label_id    ┆ spl_version ┆ title      ┆ section ┆ label ┆ uog_annota ┆ mnz_annota │\n",
       "│ ---         ┆ ---         ┆ ---         ┆ ---        ┆ ---     ┆ ---   ┆ tion       ┆ tion       │\n",
       "│ str         ┆ str         ┆ i64         ┆ str        ┆ str     ┆ str   ┆ ---        ┆ ---        │\n",
       "│             ┆             ┆             ┆            ┆         ┆       ┆ str        ┆ str        │\n",
       "╞═════════════╪═════════════╪═════════════╪════════════╪═════════╪═══════╪════════════╪════════════╡\n",
       "│ 908691b4-79 ┆ e6f0f0dd-94 ┆ 1           ┆ Isoxsuprin ┆ DI      ┆ null  ┆ null       ┆ null       │\n",
       "│ 50-4f3e-bbe ┆ 0a-490f-a40 ┆             ┆ e Hydrochl ┆         ┆       ┆            ┆            │\n",
       "│ a-ea568f…   ┆ 4-56dd56…   ┆             ┆ oride      ┆         ┆       ┆            ┆            │\n",
       "│             ┆             ┆             ┆ Tabl…      ┆         ┆       ┆            ┆            │\n",
       "│ 5a0ba417-8a ┆ 8e64b577-1e ┆ 5           ┆ These      ┆ DI      ┆ null  ┆ null       ┆ null       │\n",
       "│ 4a-4d7f-b85 ┆ cb-46f2-a7c ┆             ┆ highlights ┆         ┆       ┆            ┆            │\n",
       "│ a-1839ee…   ┆ 8-3577a1…   ┆             ┆ do not     ┆         ┆       ┆            ┆            │\n",
       "│             ┆             ┆             ┆ includ…    ┆         ┆       ┆            ┆            │\n",
       "└─────────────┴─────────────┴─────────────┴────────────┴─────────┴───────┴────────────┴────────────┘"
      ]
     },
     "execution_count": 2,
     "metadata": {},
     "output_type": "execute_result"
    }
   ],
   "source": [
    "pre_annotated_df = pl.read_csv(\"../data/to_manually_annotate.csv\")\n",
    "uog_df = pl.read_csv(\"../data/undina_annotations.tsv\", separator=\"\\t\")\n",
    "mnz_df = pl.read_csv(\"../data/michael_annotations.csv\")\n",
    "\n",
    "mnz_df = (\n",
    "    pl.concat([\n",
    "        pre_annotated_df,\n",
    "        mnz_df.rename({\"title\": \"_title\", \"text\": \"_text\"})\n",
    "    ], how=\"horizontal\")\n",
    ")\n",
    "assert len(mnz_df.filter(pl.col(\"set_id\").ne(pl.col(\"_title\")))) == 0\n",
    "mnz_df = (\n",
    "    mnz_df\n",
    "    .select(\"set_id\", \"label_id\", \"spl_version\", \"title\", \"section\", \"label\", \"annotation\")\n",
    ")\n",
    "\n",
    "merged_df = (\n",
    "    uog_df\n",
    "    .join(mnz_df, on=[\"set_id\", \"label_id\", \"spl_version\", \"section\"])\n",
    "    .filter(pl.col(\"section\").eq(\"DI\"))\n",
    "    .with_columns(pl.col(\"label\", \"title\").str.replace_all(\"\\n\", \" \"))\n",
    "    .select(\"set_id\", \"label_id\", \"spl_version\", \"title\", \"section\", \"label\", \"uog_annotation\", mnz_annotation = \"annotation\")\n",
    ")\n",
    "\n",
    "merged_df.head(2)"
   ]
  },
  {
   "cell_type": "code",
   "execution_count": 3,
   "id": "b0ac46e0-2c03-45fa-bd83-829d3fd314fa",
   "metadata": {},
   "outputs": [
    {
     "data": {
      "text/html": [
       "<div><style>\n",
       ".dataframe > thead > tr,\n",
       ".dataframe > tbody > tr {\n",
       "  text-align: right;\n",
       "  white-space: pre-wrap;\n",
       "}\n",
       "</style>\n",
       "<small>shape: (2, 11)</small><table border=\"1\" class=\"dataframe\"><thead><tr><th>set_id</th><th>label_id</th><th>spl_version</th><th>title</th><th>section</th><th>label</th><th>uog_annotation</th><th>mnz_annotation</th><th>uog_diff</th><th>mnz_diff</th><th>consensus</th></tr><tr><td>str</td><td>str</td><td>i64</td><td>str</td><td>str</td><td>str</td><td>list[str]</td><td>list[str]</td><td>list[str]</td><td>list[str]</td><td>list[str]</td></tr></thead><tbody><tr><td>&quot;908691b4-7950-4f3e-bbea-ea568f…</td><td>&quot;e6f0f0dd-940a-490f-a404-56dd56…</td><td>1</td><td>&quot;Isoxsuprine Hydrochloride Tabl…</td><td>&quot;DI&quot;</td><td>null</td><td>null</td><td>null</td><td>null</td><td>null</td><td>null</td></tr><tr><td>&quot;5a0ba417-8a4a-4d7f-b85a-1839ee…</td><td>&quot;8e64b577-1ecb-46f2-a7c8-3577a1…</td><td>5</td><td>&quot;These highlights do not includ…</td><td>&quot;DI&quot;</td><td>null</td><td>null</td><td>null</td><td>null</td><td>null</td><td>null</td></tr></tbody></table></div>"
      ],
      "text/plain": [
       "shape: (2, 11)\n",
       "┌───────────┬───────────┬───────────┬───────────┬───┬───────────┬───────────┬───────────┬──────────┐\n",
       "│ set_id    ┆ label_id  ┆ spl_versi ┆ title     ┆ … ┆ mnz_annot ┆ uog_diff  ┆ mnz_diff  ┆ consensu │\n",
       "│ ---       ┆ ---       ┆ on        ┆ ---       ┆   ┆ ation     ┆ ---       ┆ ---       ┆ s        │\n",
       "│ str       ┆ str       ┆ ---       ┆ str       ┆   ┆ ---       ┆ list[str] ┆ list[str] ┆ ---      │\n",
       "│           ┆           ┆ i64       ┆           ┆   ┆ list[str] ┆           ┆           ┆ list[str │\n",
       "│           ┆           ┆           ┆           ┆   ┆           ┆           ┆           ┆ ]        │\n",
       "╞═══════════╪═══════════╪═══════════╪═══════════╪═══╪═══════════╪═══════════╪═══════════╪══════════╡\n",
       "│ 908691b4- ┆ e6f0f0dd- ┆ 1         ┆ Isoxsupri ┆ … ┆ null      ┆ null      ┆ null      ┆ null     │\n",
       "│ 7950-4f3e ┆ 940a-490f ┆           ┆ ne Hydroc ┆   ┆           ┆           ┆           ┆          │\n",
       "│ -bbea-ea5 ┆ -a404-56d ┆           ┆ hloride   ┆   ┆           ┆           ┆           ┆          │\n",
       "│ 68f…      ┆ d56…      ┆           ┆ Tabl…     ┆   ┆           ┆           ┆           ┆          │\n",
       "│ 5a0ba417- ┆ 8e64b577- ┆ 5         ┆ These hig ┆ … ┆ null      ┆ null      ┆ null      ┆ null     │\n",
       "│ 8a4a-4d7f ┆ 1ecb-46f2 ┆           ┆ hlights   ┆   ┆           ┆           ┆           ┆          │\n",
       "│ -b85a-183 ┆ -a7c8-357 ┆           ┆ do not    ┆   ┆           ┆           ┆           ┆          │\n",
       "│ 9ee…      ┆ 7a1…      ┆           ┆ includ…   ┆   ┆           ┆           ┆           ┆          │\n",
       "└───────────┴───────────┴───────────┴───────────┴───┴───────────┴───────────┴───────────┴──────────┘"
      ]
     },
     "execution_count": 3,
     "metadata": {},
     "output_type": "execute_result"
    }
   ],
   "source": [
    "diff_df = (\n",
    "    merged_df\n",
    "    .with_columns(\n",
    "        pl.col(\"uog_annotation\", \"mnz_annotation\")\n",
    "            .str.split(\",\")\n",
    "            .list.eval(\n",
    "                pl.element()\n",
    "                .str.strip_chars()\n",
    "                .str.to_lowercase()\n",
    "                .str.replace(\".\", \"\", literal=True)\n",
    "                .str.replace(\"-\", \" \")\n",
    "            )\n",
    "            .list.unique()\n",
    "    )\n",
    "    .with_columns(\n",
    "        uog_diff=pl.col(\"uog_annotation\").list.set_difference(pl.col(\"mnz_annotation\")),\n",
    "        mnz_diff=pl.col(\"mnz_annotation\").list.set_difference(pl.col(\"uog_annotation\")),\n",
    "    )\n",
    "    # Replace empty list with null\n",
    "    .with_columns(\n",
    "        uog_diff=pl.when(pl.col(\"uog_diff\").list.len() > 0).then(pl.col(\"uog_diff\")),\n",
    "        mnz_diff=pl.when(pl.col(\"mnz_diff\").list.len() > 0).then(pl.col(\"mnz_diff\")),\n",
    "    )\n",
    "    .with_columns(consensus=pl.col(\"uog_annotation\").list.set_intersection(pl.col(\"mnz_annotation\")))\n",
    ")\n",
    "\n",
    "diff_df.head(2)"
   ]
  },
  {
   "cell_type": "code",
   "execution_count": 9,
   "id": "eea520ce-0802-4f70-aaa8-7ddaeee040a8",
   "metadata": {},
   "outputs": [],
   "source": [
    "(\n",
    "    diff_df\n",
    "    .with_columns(pl.col(pl.List(pl.Utf8)).list.join(\", \"))\n",
    "    .write_csv(\"../data/initial_diff.csv\")\n",
    ")"
   ]
  },
  {
   "cell_type": "code",
   "execution_count": 8,
   "id": "3e0a5006-5e19-419f-9e8e-4cadd2ea3171",
   "metadata": {},
   "outputs": [
    {
     "data": {
      "text/html": [
       "<div><style>\n",
       ".dataframe > thead > tr,\n",
       ".dataframe > tbody > tr {\n",
       "  text-align: right;\n",
       "  white-space: pre-wrap;\n",
       "}\n",
       "</style>\n",
       "<small>shape: (51, 11)</small><table border=\"1\" class=\"dataframe\"><thead><tr><th>set_id</th><th>label_id</th><th>spl_version</th><th>title</th><th>section</th><th>label</th><th>uog_annotation</th><th>mnz_annotation</th><th>uog_diff</th><th>mnz_diff</th><th>consensus</th></tr><tr><td>str</td><td>str</td><td>i64</td><td>str</td><td>str</td><td>str</td><td>str</td><td>str</td><td>str</td><td>str</td><td>str</td></tr></thead><tbody><tr><td>&quot;e45cc371-9ebc-4904-12bc-65cb4e…</td><td>&quot;ccb063c5-2695-4ed5-a281-c75f6e…</td><td>17</td><td>&quot;These highlights do not includ…</td><td>&quot;DI&quot;</td><td>&quot;7 DRUG INTERACTIONS  There hav…</td><td>&quot;sulfonylureas,st john&#x27;s wort,s…</td><td>&quot;sulfonylureas,sulfonamides,gri…</td><td>&quot;tetracycline&quot;</td><td>&quot;tetracyclines&quot;</td><td>&quot;sulfonylureas,st john&#x27;s wort,s…</td></tr><tr><td>&quot;b8eb330a-a75b-46cb-b694-5be932…</td><td>&quot;3860168c-32e9-4151-b08e-25d4bb…</td><td>5</td><td>&quot;DOPRAM Injection(doxapram hydr…</td><td>&quot;DI&quot;</td><td>&quot;Drug Interactions  Administrat…</td><td>&quot;doxopram,oxidase inhibiting dr…</td><td>&quot;theophylline,monoamine oxidase…</td><td>&quot;doxopram,oxidase inhibiting dr…</td><td>&quot;sympathomimetic drugs,monoamin…</td><td>&quot;neuromuscular blocking agents,…</td></tr><tr><td>&quot;f6927e91-bb46-47b3-ab66-f9d8a9…</td><td>&quot;8bdc1b76-3c74-4a6a-8a82-86a6a0…</td><td>2</td><td>&quot;These highlights do not includ…</td><td>&quot;DI&quot;</td><td>&quot;7 DRUG INTERACTIONS      7.1 C…</td><td>&quot;raxibacumab,anthrax vaccine ad…</td><td>&quot;scava,raxibacumab,anthrax vacc…</td><td>&quot;anthrax vaccine adsorbed (ava)&quot;</td><td>&quot;scava,anthrax vaccine&quot;</td><td>&quot;raxibacumab,ciprofloxacin&quot;</td></tr><tr><td>&quot;6a95effd-32a5-46b6-a30e-7f4f9b…</td><td>&quot;168e1482-e6a5-416d-9711-2c8d9c…</td><td>7</td><td>&quot;These highlights do not includ…</td><td>&quot;DI&quot;</td><td>&quot;7  DRUG INTERACTIONS       •Co…</td><td>&quot;calcifediol,voriconazole,rayal…</td><td>&quot;cytochrome p450 inhibitors,ind…</td><td>&quot;compounds that stimulate micro…</td><td>&quot;drugs stimulating microsomal h…</td><td>&quot;calcifediol,voriconazole,rayal…</td></tr><tr><td>&quot;c00d1607-ac36-457b-a34b-75ad74…</td><td>&quot;a9982b9f-49dc-474b-8179-da9189…</td><td>32</td><td>&quot;These highlights do not includ…</td><td>&quot;DI&quot;</td><td>&quot;7 DRUG INTERACTIONS   Drug int…</td><td>&quot;protease inhibitors,nifedipine…</td><td>&quot;anti infectives,pimozide,triam…</td><td>&quot;protease inhibitors,benzodiaze…</td><td>&quot;antipsychotics,antiarrhythmics…</td><td>&quot;nifedipine,mesoridazine,phenob…</td></tr><tr><td>&hellip;</td><td>&hellip;</td><td>&hellip;</td><td>&hellip;</td><td>&hellip;</td><td>&hellip;</td><td>&hellip;</td><td>&hellip;</td><td>&hellip;</td><td>&hellip;</td><td>&hellip;</td></tr><tr><td>&quot;cdfbe0cd-eb15-45a1-ac17-531bcd…</td><td>&quot;1d6c9e9d-e17d-4609-91fa-75e5bd…</td><td>11</td><td>&quot;These highlights do not includ…</td><td>&quot;DI&quot;</td><td>&quot;7 DRUG INTERACTIONS       Warf…</td><td>&quot;ocaliva,colestipol,bile acid b…</td><td>&quot;colesevelam,cyp1a2 substrates,…</td><td>&quot;ocaliva,obeticholic acid&quot;</td><td>null</td><td>&quot;colestipol,bile acid binding r…</td></tr><tr><td>&quot;dac9637f-3326-4f25-b7b9-f9f54b…</td><td>&quot;2a704323-0860-4d2f-8743-f2b4d0…</td><td>5</td><td>&quot;Ergomar® Sublingual Tablets, 2…</td><td>&quot;DI&quot;</td><td>&quot;Drug Interactions       CYP 3A…</td><td>&quot;vasoconstrictors,cyp3a4 inhibi…</td><td>&quot;sympathomimetics,macrolide ant…</td><td>&quot;ergotamine tartrate sublingual…</td><td>null</td><td>&quot;vasoconstrictors,cyp3a4 inhibi…</td></tr><tr><td>&quot;f11c21f8-f725-445e-b38e-1e4c5b…</td><td>&quot;b3b84922-3dcf-4c02-91ea-856e48…</td><td>5</td><td>&quot;These highlights do not includ…</td><td>&quot;DI&quot;</td><td>&quot;7 DRUG INTERACTIONS      CYP3A…</td><td>&quot;xermelo,midazolam,telotristat,…</td><td>&quot;midazolam,cyp3a4 substrates,sh…</td><td>&quot;xermelo,telotristat ethyl,telo…</td><td>null</td><td>&quot;midazolam,short acting octreot…</td></tr><tr><td>&quot;03880372-2c68-45c6-a53a-f420c4…</td><td>&quot;0823bccc-f79a-400b-a8bf-8e0988…</td><td>21</td><td>&quot;These highlights do not includ…</td><td>&quot;DI&quot;</td><td>&quot;7 DRUG INTERACTIONS   [see Dos…</td><td>&quot;nelfinavir,norethindrone,didan…</td><td>&quot;macrolide antibiotics,hiv anti…</td><td>&quot;edurant,norethindrone,sildenaf…</td><td>&quot;macrolide antibiotics,non nucl…</td><td>&quot;nelfinavir,didanosine,delavird…</td></tr><tr><td>&quot;da1c9f37-779e-4682-816f-93d0fa…</td><td>&quot;9de10615-5f26-453a-9c56-a0b844…</td><td>16</td><td>&quot;These highlights do not includ…</td><td>&quot;DI&quot;</td><td>&quot;7 DRUG INTERACTIONS      Coadm…</td><td>&quot;phenytoin,nintedanib,bosentan,…</td><td>&quot;anticoagulants,cyp3a4 inducers…</td><td>&quot;anticoagulation treatment,nint…</td><td>&quot;p gp inducers,p glycoprotein i…</td><td>&quot;phenytoin,bosentan,erythromyci…</td></tr></tbody></table></div>"
      ],
      "text/plain": [
       "shape: (51, 11)\n",
       "┌───────────┬───────────┬───────────┬───────────┬───┬───────────┬───────────┬───────────┬──────────┐\n",
       "│ set_id    ┆ label_id  ┆ spl_versi ┆ title     ┆ … ┆ mnz_annot ┆ uog_diff  ┆ mnz_diff  ┆ consensu │\n",
       "│ ---       ┆ ---       ┆ on        ┆ ---       ┆   ┆ ation     ┆ ---       ┆ ---       ┆ s        │\n",
       "│ str       ┆ str       ┆ ---       ┆ str       ┆   ┆ ---       ┆ str       ┆ str       ┆ ---      │\n",
       "│           ┆           ┆ i64       ┆           ┆   ┆ str       ┆           ┆           ┆ str      │\n",
       "╞═══════════╪═══════════╪═══════════╪═══════════╪═══╪═══════════╪═══════════╪═══════════╪══════════╡\n",
       "│ e45cc371- ┆ ccb063c5- ┆ 17        ┆ These hig ┆ … ┆ sulfonylu ┆ tetracycl ┆ tetracycl ┆ sulfonyl │\n",
       "│ 9ebc-4904 ┆ 2695-4ed5 ┆           ┆ hlights   ┆   ┆ reas,sulf ┆ ine       ┆ ines      ┆ ureas,st │\n",
       "│ -12bc-65c ┆ -a281-c75 ┆           ┆ do not    ┆   ┆ onamides, ┆           ┆           ┆ john's   │\n",
       "│ b4e…      ┆ f6e…      ┆           ┆ includ…   ┆   ┆ gri…      ┆           ┆           ┆ wort,s…  │\n",
       "│ b8eb330a- ┆ 3860168c- ┆ 5         ┆ DOPRAM    ┆ … ┆ theophyll ┆ doxopram, ┆ sympathom ┆ neuromus │\n",
       "│ a75b-46cb ┆ 32e9-4151 ┆           ┆ Injection ┆   ┆ ine,monoa ┆ oxidase   ┆ imetic    ┆ cular    │\n",
       "│ -b694-5be ┆ -b08e-25d ┆           ┆ (doxapram ┆   ┆ mine      ┆ inhibitin ┆ drugs,mon ┆ blocking │\n",
       "│ 932…      ┆ 4bb…      ┆           ┆ hydr…     ┆   ┆ oxidase…  ┆ g dr…     ┆ oamin…    ┆ agents,… │\n",
       "│ f6927e91- ┆ 8bdc1b76- ┆ 2         ┆ These hig ┆ … ┆ scava,rax ┆ anthrax   ┆ scava,ant ┆ raxibacu │\n",
       "│ bb46-47b3 ┆ 3c74-4a6a ┆           ┆ hlights   ┆   ┆ ibacumab, ┆ vaccine   ┆ hrax      ┆ mab,cipr │\n",
       "│ -ab66-f9d ┆ -8a82-86a ┆           ┆ do not    ┆   ┆ anthrax   ┆ adsorbed  ┆ vaccine   ┆ ofloxaci │\n",
       "│ 8a9…      ┆ 6a0…      ┆           ┆ includ…   ┆   ┆ vacc…     ┆ (ava)     ┆           ┆ n        │\n",
       "│ 6a95effd- ┆ 168e1482- ┆ 7         ┆ These hig ┆ … ┆ cytochrom ┆ compounds ┆ drugs sti ┆ calcifed │\n",
       "│ 32a5-46b6 ┆ e6a5-416d ┆           ┆ hlights   ┆   ┆ e p450    ┆ that      ┆ mulating  ┆ iol,vori │\n",
       "│ -a30e-7f4 ┆ -9711-2c8 ┆           ┆ do not    ┆   ┆ inhibitor ┆ stimulate ┆ microsoma ┆ conazole │\n",
       "│ f9b…      ┆ d9c…      ┆           ┆ includ…   ┆   ┆ s,ind…    ┆ micro…    ┆ l h…      ┆ ,rayal…  │\n",
       "│ c00d1607- ┆ a9982b9f- ┆ 32        ┆ These hig ┆ … ┆ anti infe ┆ protease  ┆ antipsych ┆ nifedipi │\n",
       "│ ac36-457b ┆ 49dc-474b ┆           ┆ hlights   ┆   ┆ ctives,pi ┆ inhibitor ┆ otics,ant ┆ ne,mesor │\n",
       "│ -a34b-75a ┆ -8179-da9 ┆           ┆ do not    ┆   ┆ mozide,tr ┆ s,benzodi ┆ iarrhythm ┆ idazine, │\n",
       "│ d74…      ┆ 189…      ┆           ┆ includ…   ┆   ┆ iam…      ┆ aze…      ┆ ics…      ┆ phenob…  │\n",
       "│ …         ┆ …         ┆ …         ┆ …         ┆ … ┆ …         ┆ …         ┆ …         ┆ …        │\n",
       "│ cdfbe0cd- ┆ 1d6c9e9d- ┆ 11        ┆ These hig ┆ … ┆ colesevel ┆ ocaliva,o ┆ null      ┆ colestip │\n",
       "│ eb15-45a1 ┆ e17d-4609 ┆           ┆ hlights   ┆   ┆ am,cyp1a2 ┆ beticholi ┆           ┆ ol,bile  │\n",
       "│ -ac17-531 ┆ -91fa-75e ┆           ┆ do not    ┆   ┆ substrate ┆ c acid    ┆           ┆ acid     │\n",
       "│ bcd…      ┆ 5bd…      ┆           ┆ includ…   ┆   ┆ s,…       ┆           ┆           ┆ binding  │\n",
       "│           ┆           ┆           ┆           ┆   ┆           ┆           ┆           ┆ r…       │\n",
       "│ dac9637f- ┆ 2a704323- ┆ 5         ┆ Ergomar®  ┆ … ┆ sympathom ┆ ergotamin ┆ null      ┆ vasocons │\n",
       "│ 3326-4f25 ┆ 0860-4d2f ┆           ┆ Sublingua ┆   ┆ imetics,m ┆ e         ┆           ┆ trictors │\n",
       "│ -b7b9-f9f ┆ -8743-f2b ┆           ┆ l         ┆   ┆ acrolide  ┆ tartrate  ┆           ┆ ,cyp3a4  │\n",
       "│ 54b…      ┆ 4d0…      ┆           ┆ Tablets,  ┆   ┆ ant…      ┆ sublingua ┆           ┆ inhibi…  │\n",
       "│           ┆           ┆           ┆ 2…        ┆   ┆           ┆ l…        ┆           ┆          │\n",
       "│ f11c21f8- ┆ b3b84922- ┆ 5         ┆ These hig ┆ … ┆ midazolam ┆ xermelo,t ┆ null      ┆ midazola │\n",
       "│ f725-445e ┆ 3dcf-4c02 ┆           ┆ hlights   ┆   ┆ ,cyp3a4   ┆ elotrista ┆           ┆ m,short  │\n",
       "│ -b38e-1e4 ┆ -91ea-856 ┆           ┆ do not    ┆   ┆ substrate ┆ t ethyl,t ┆           ┆ acting   │\n",
       "│ c5b…      ┆ e48…      ┆           ┆ includ…   ┆   ┆ s,sh…     ┆ elo…      ┆           ┆ octreot… │\n",
       "│ 03880372- ┆ 0823bccc- ┆ 21        ┆ These hig ┆ … ┆ macrolide ┆ edurant,n ┆ macrolide ┆ nelfinav │\n",
       "│ 2c68-45c6 ┆ f79a-400b ┆           ┆ hlights   ┆   ┆ antibioti ┆ orethindr ┆ antibioti ┆ ir,didan │\n",
       "│ -a53a-f42 ┆ -a8bf-8e0 ┆           ┆ do not    ┆   ┆ cs,hiv    ┆ one,silde ┆ cs,non    ┆ osine,de │\n",
       "│ 0c4…      ┆ 988…      ┆           ┆ includ…   ┆   ┆ anti…     ┆ naf…      ┆ nucl…     ┆ lavird…  │\n",
       "│ da1c9f37- ┆ 9de10615- ┆ 16        ┆ These hig ┆ … ┆ anticoagu ┆ anticoagu ┆ p gp indu ┆ phenytoi │\n",
       "│ 779e-4682 ┆ 5f26-453a ┆           ┆ hlights   ┆   ┆ lants,cyp ┆ lation    ┆ cers,p    ┆ n,bosent │\n",
       "│ -816f-93d ┆ -9c56-a0b ┆           ┆ do not    ┆   ┆ 3a4       ┆ treatment ┆ glycoprot ┆ an,eryth │\n",
       "│ 0fa…      ┆ 844…      ┆           ┆ includ…   ┆   ┆ inducers… ┆ ,nint…    ┆ ein i…    ┆ romyci…  │\n",
       "└───────────┴───────────┴───────────┴───────────┴───┴───────────┴───────────┴───────────┴──────────┘"
      ]
     },
     "execution_count": 8,
     "metadata": {},
     "output_type": "execute_result"
    }
   ],
   "source": [
    "(\n",
    "    diff_df\n",
    "    .filter(pl.col(\"uog_diff\").is_not_null() | pl.col(\"mnz_diff\").is_not_null())\n",
    "    .with_columns(pl.col(pl.List(pl.Utf8)).list.join(\",\"))\n",
    ")"
   ]
  }
 ],
 "metadata": {
  "kernelspec": {
   "display_name": "Python 3 (ipykernel)",
   "language": "python",
   "name": "python3"
  },
  "language_info": {
   "codemirror_mode": {
    "name": "ipython",
    "version": 3
   },
   "file_extension": ".py",
   "mimetype": "text/x-python",
   "name": "python",
   "nbconvert_exporter": "python",
   "pygments_lexer": "ipython3",
   "version": "3.12.2"
  }
 },
 "nbformat": 4,
 "nbformat_minor": 5
}
