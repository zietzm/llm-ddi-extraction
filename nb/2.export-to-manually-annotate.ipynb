{
 "cells": [
  {
   "cell_type": "code",
   "execution_count": 1,
   "id": "2744a051-1989-46da-9441-fada3afc0b47",
   "metadata": {},
   "outputs": [],
   "source": [
    "import sqlite3\n",
    "\n",
    "import polars as pl"
   ]
  },
  {
   "cell_type": "code",
   "execution_count": 2,
   "id": "0fe43a77-afee-467d-9e5b-25fd7c9a140a",
   "metadata": {},
   "outputs": [],
   "source": [
    "with sqlite3.connect(\"../data/project.db\") as conn:\n",
    "    labels_df = pl.read_database(\"SELECT * from druglabel;\", conn)"
   ]
  },
  {
   "cell_type": "code",
   "execution_count": 8,
   "id": "8a6dece3-1d54-4f42-82cd-bc68c087139d",
   "metadata": {},
   "outputs": [
    {
     "data": {
      "text/html": [
       "<div><style>\n",
       ".dataframe > thead > tr,\n",
       ".dataframe > tbody > tr {\n",
       "  text-align: right;\n",
       "  white-space: pre-wrap;\n",
       "}\n",
       "</style>\n",
       "<small>shape: (200, 6)</small><table border=\"1\" class=\"dataframe\"><thead><tr><th>set_id</th><th>label_id</th><th>spl_version</th><th>title</th><th>section</th><th>label</th></tr><tr><td>str</td><td>str</td><td>str</td><td>str</td><td>str</td><td>str</td></tr></thead><tbody><tr><td>&quot;908691b4-7950-4f3e-bbea-ea568f…</td><td>&quot;e6f0f0dd-940a-490f-a404-56dd56…</td><td>&quot;1&quot;</td><td>&quot;Isoxsuprine Hydrochloride Tabl…</td><td>&quot;CO&quot;</td><td>&quot;CONTRAINDICATIONS\n",
       "\n",
       "There are n…</td></tr><tr><td>&quot;5a0ba417-8a4a-4d7f-b85a-1839ee…</td><td>&quot;8e64b577-1ecb-46f2-a7c8-3577a1…</td><td>&quot;5&quot;</td><td>&quot;These highlights do not includ…</td><td>&quot;CO&quot;</td><td>&quot;4 CONTRAINDICATIONS\n",
       "\n",
       "None.\n",
       "\n",
       "\n",
       "\n",
       "…</td></tr><tr><td>&quot;366e7ca9-4fd3-4688-bd83-1f3698…</td><td>&quot;191d11f2-a407-4cbf-8e8b-466e2b…</td><td>&quot;4&quot;</td><td>&quot;These highlights do not includ…</td><td>&quot;CO&quot;</td><td>&quot;4 CONTRAINDICATIONS\n",
       "\n",
       "None.\n",
       "\n",
       "\n",
       "\n",
       "…</td></tr><tr><td>&quot;bc563e90-10e5-475d-aa84-b0e3d5…</td><td>&quot;1b3410c5-6dba-401e-8a6e-4b483e…</td><td>&quot;4&quot;</td><td>&quot;These highlights do not includ…</td><td>&quot;CO&quot;</td><td>&quot;4 CONTRAINDICATIONS\n",
       "\n",
       "None.\n",
       "\n",
       "\n",
       "\n",
       "…</td></tr><tr><td>&quot;eccd8340-ead3-4363-8902-0c19d3…</td><td>&quot;6f36157b-6fae-4428-80b7-aee384…</td><td>&quot;13&quot;</td><td>&quot;BREVITAL®\n",
       "\n",
       "\n",
       " (methohexital sod…</td><td>&quot;CO&quot;</td><td>&quot;CONTRAINDICATIONS\n",
       "\n",
       "\n",
       "BREVITAL i…</td></tr><tr><td>&hellip;</td><td>&hellip;</td><td>&hellip;</td><td>&hellip;</td><td>&hellip;</td><td>&hellip;</td></tr><tr><td>&quot;ea66eb30-e665-4693-99a1-a9d3b4…</td><td>&quot;703533f9-fc6c-4d67-bc41-40f99f…</td><td>&quot;54&quot;</td><td>&quot;These highlights do not includ…</td><td>&quot;DI&quot;</td><td>null</td></tr><tr><td>&quot;f3ffd601-182f-4f04-b1cc-8175bc…</td><td>&quot;5190a5bc-5820-4874-bbe7-325762…</td><td>&quot;5&quot;</td><td>&quot;Homatropine Hydrobromide Ophth…</td><td>&quot;DI&quot;</td><td>null</td></tr><tr><td>&quot;03880372-2c68-45c6-a53a-f420c4…</td><td>&quot;0823bccc-f79a-400b-a8bf-8e0988…</td><td>&quot;21&quot;</td><td>&quot;These highlights do not includ…</td><td>&quot;DI&quot;</td><td>&quot;7 DRUG INTERACTIONS\n",
       "\n",
       "\n",
       "[see Dos…</td></tr><tr><td>&quot;a8f6ef34-471c-4f30-961b-08cb77…</td><td>&quot;f2adc2da-070a-4520-a6fc-5b50d1…</td><td>&quot;4&quot;</td><td>&quot;Cloderm® Cream, 0.1% (clocorto…</td><td>&quot;DI&quot;</td><td>null</td></tr><tr><td>&quot;da1c9f37-779e-4682-816f-93d0fa…</td><td>&quot;9de10615-5f26-453a-9c56-a0b844…</td><td>&quot;16&quot;</td><td>&quot;These highlights do not includ…</td><td>&quot;DI&quot;</td><td>&quot;7 DRUG INTERACTIONS\n",
       "\n",
       "\n",
       "\n",
       "\n",
       "\n",
       "Coadm…</td></tr></tbody></table></div>"
      ],
      "text/plain": [
       "shape: (200, 6)\n",
       "┌──────────────────┬──────────────────┬─────────────┬──────────────────┬─────────┬─────────────────┐\n",
       "│ set_id           ┆ label_id         ┆ spl_version ┆ title            ┆ section ┆ label           │\n",
       "│ ---              ┆ ---              ┆ ---         ┆ ---              ┆ ---     ┆ ---             │\n",
       "│ str              ┆ str              ┆ str         ┆ str              ┆ str     ┆ str             │\n",
       "╞══════════════════╪══════════════════╪═════════════╪══════════════════╪═════════╪═════════════════╡\n",
       "│ 908691b4-7950-4f ┆ e6f0f0dd-940a-49 ┆ 1           ┆ Isoxsuprine      ┆ CO      ┆ CONTRAINDICATIO │\n",
       "│ 3e-bbea-ea568f…  ┆ 0f-a404-56dd56…  ┆             ┆ Hydrochloride    ┆         ┆ NS              │\n",
       "│                  ┆                  ┆             ┆ Tabl…            ┆         ┆                 │\n",
       "│                  ┆                  ┆             ┆                  ┆         ┆ There are n…    │\n",
       "│ 5a0ba417-8a4a-4d ┆ 8e64b577-1ecb-46 ┆ 5           ┆ These highlights ┆ CO      ┆ 4 CONTRAINDICAT │\n",
       "│ 7f-b85a-1839ee…  ┆ f2-a7c8-3577a1…  ┆             ┆ do not includ…   ┆         ┆ IONS            │\n",
       "│                  ┆                  ┆             ┆                  ┆         ┆                 │\n",
       "│                  ┆                  ┆             ┆                  ┆         ┆ None.           │\n",
       "│                  ┆                  ┆             ┆                  ┆         ┆                 │\n",
       "│                  ┆                  ┆             ┆                  ┆         ┆                 │\n",
       "│                  ┆                  ┆             ┆                  ┆         ┆                 │\n",
       "│                  ┆                  ┆             ┆                  ┆         ┆ …               │\n",
       "│ 366e7ca9-4fd3-46 ┆ 191d11f2-a407-4c ┆ 4           ┆ These highlights ┆ CO      ┆ 4 CONTRAINDICAT │\n",
       "│ 88-bd83-1f3698…  ┆ bf-8e8b-466e2b…  ┆             ┆ do not includ…   ┆         ┆ IONS            │\n",
       "│                  ┆                  ┆             ┆                  ┆         ┆                 │\n",
       "│                  ┆                  ┆             ┆                  ┆         ┆ None.           │\n",
       "│                  ┆                  ┆             ┆                  ┆         ┆                 │\n",
       "│                  ┆                  ┆             ┆                  ┆         ┆                 │\n",
       "│                  ┆                  ┆             ┆                  ┆         ┆                 │\n",
       "│                  ┆                  ┆             ┆                  ┆         ┆ …               │\n",
       "│ bc563e90-10e5-47 ┆ 1b3410c5-6dba-40 ┆ 4           ┆ These highlights ┆ CO      ┆ 4 CONTRAINDICAT │\n",
       "│ 5d-aa84-b0e3d5…  ┆ 1e-8a6e-4b483e…  ┆             ┆ do not includ…   ┆         ┆ IONS            │\n",
       "│                  ┆                  ┆             ┆                  ┆         ┆                 │\n",
       "│                  ┆                  ┆             ┆                  ┆         ┆ None.           │\n",
       "│                  ┆                  ┆             ┆                  ┆         ┆                 │\n",
       "│                  ┆                  ┆             ┆                  ┆         ┆                 │\n",
       "│                  ┆                  ┆             ┆                  ┆         ┆                 │\n",
       "│                  ┆                  ┆             ┆                  ┆         ┆ …               │\n",
       "│ eccd8340-ead3-43 ┆ 6f36157b-6fae-44 ┆ 13          ┆ BREVITAL®        ┆ CO      ┆ CONTRAINDICATIO │\n",
       "│ 63-8902-0c19d3…  ┆ 28-80b7-aee384…  ┆             ┆                  ┆         ┆ NS              │\n",
       "│                  ┆                  ┆             ┆                  ┆         ┆                 │\n",
       "│                  ┆                  ┆             ┆ (methohexital    ┆         ┆                 │\n",
       "│                  ┆                  ┆             ┆ sod…             ┆         ┆ BREVITAL i…     │\n",
       "│ …                ┆ …                ┆ …           ┆ …                ┆ …       ┆ …               │\n",
       "│ ea66eb30-e665-46 ┆ 703533f9-fc6c-4d ┆ 54          ┆ These highlights ┆ DI      ┆ null            │\n",
       "│ 93-99a1-a9d3b4…  ┆ 67-bc41-40f99f…  ┆             ┆ do not includ…   ┆         ┆                 │\n",
       "│ f3ffd601-182f-4f ┆ 5190a5bc-5820-48 ┆ 5           ┆ Homatropine      ┆ DI      ┆ null            │\n",
       "│ 04-b1cc-8175bc…  ┆ 74-bbe7-325762…  ┆             ┆ Hydrobromide     ┆         ┆                 │\n",
       "│                  ┆                  ┆             ┆ Ophth…           ┆         ┆                 │\n",
       "│ 03880372-2c68-45 ┆ 0823bccc-f79a-40 ┆ 21          ┆ These highlights ┆ DI      ┆ 7 DRUG          │\n",
       "│ c6-a53a-f420c4…  ┆ 0b-a8bf-8e0988…  ┆             ┆ do not includ…   ┆         ┆ INTERACTIONS    │\n",
       "│                  ┆                  ┆             ┆                  ┆         ┆                 │\n",
       "│                  ┆                  ┆             ┆                  ┆         ┆                 │\n",
       "│                  ┆                  ┆             ┆                  ┆         ┆ [see Dos…       │\n",
       "│ a8f6ef34-471c-4f ┆ f2adc2da-070a-45 ┆ 4           ┆ Cloderm® Cream,  ┆ DI      ┆ null            │\n",
       "│ 30-961b-08cb77…  ┆ 20-a6fc-5b50d1…  ┆             ┆ 0.1% (clocorto…  ┆         ┆                 │\n",
       "│ da1c9f37-779e-46 ┆ 9de10615-5f26-45 ┆ 16          ┆ These highlights ┆ DI      ┆ 7 DRUG          │\n",
       "│ 82-816f-93d0fa…  ┆ 3a-9c56-a0b844…  ┆             ┆ do not includ…   ┆         ┆ INTERACTIONS    │\n",
       "│                  ┆                  ┆             ┆                  ┆         ┆                 │\n",
       "│                  ┆                  ┆             ┆                  ┆         ┆                 │\n",
       "│                  ┆                  ┆             ┆                  ┆         ┆                 │\n",
       "│                  ┆                  ┆             ┆                  ┆         ┆                 │\n",
       "│                  ┆                  ┆             ┆                  ┆         ┆                 │\n",
       "│                  ┆                  ┆             ┆                  ┆         ┆ Coadm…          │\n",
       "└──────────────────┴──────────────────┴─────────────┴──────────────────┴─────────┴─────────────────┘"
      ]
     },
     "execution_count": 8,
     "metadata": {},
     "output_type": "execute_result"
    }
   ],
   "source": [
    "manual_df = (\n",
    "    labels_df\n",
    "    .filter(pl.col(\"id\").le(101) & pl.col(\"id\").gt(1))\n",
    "    .select(\"id\", \"set_id\", \"label_id\", \"spl_version\", \"title\", \"CO\", \"DI\")\n",
    "    .melt(id_vars=[\"set_id\", \"label_id\", \"spl_version\", \"title\"], value_vars=[\"CO\", \"DI\"], \n",
    "          variable_name=\"section\", value_name=\"label\")\n",
    ")\n",
    "\n",
    "manual_df"
   ]
  },
  {
   "cell_type": "code",
   "execution_count": 17,
   "id": "f403818d-9000-4078-b654-21167d5fa94f",
   "metadata": {},
   "outputs": [
    {
     "data": {
      "text/plain": [
       "<xlsxwriter.workbook.Workbook at 0x115438500>"
      ]
     },
     "execution_count": 17,
     "metadata": {},
     "output_type": "execute_result"
    }
   ],
   "source": [
    "(\n",
    "    manual_df\n",
    "    .write_excel(\"../data/manual_annotations.xlsx\")\n",
    ")"
   ]
  }
 ],
 "metadata": {
  "kernelspec": {
   "display_name": "Python 3 (ipykernel)",
   "language": "python",
   "name": "python3"
  },
  "language_info": {
   "codemirror_mode": {
    "name": "ipython",
    "version": 3
   },
   "file_extension": ".py",
   "mimetype": "text/x-python",
   "name": "python",
   "nbconvert_exporter": "python",
   "pygments_lexer": "ipython3",
   "version": "3.12.2"
  }
 },
 "nbformat": 4,
 "nbformat_minor": 5
}
